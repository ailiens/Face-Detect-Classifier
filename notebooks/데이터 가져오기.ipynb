{
 "cells": [
  {
   "cell_type": "markdown",
   "id": "44b9aa62",
   "metadata": {},
   "source": [
    "### 압축해제"
   ]
  },
  {
   "cell_type": "code",
   "execution_count": 1,
   "id": "67dc10f3",
   "metadata": {
    "ExecuteTime": {
     "start_time": "2023-10-10T12:32:52.186769Z",
     "end_time": "2023-10-10T12:32:52.268551Z"
    }
   },
   "outputs": [],
   "source": [
    "import zipfile\n",
    "import os\n",
    "import glob\n",
    "from PIL import Image\n",
    "import json\n",
    "\n",
    "# zip 파일 압축 해제\n",
    "def unzip_specific_count(zip_files, output_folder, count):\n",
    "    for zip_path in zip_files[:count]:\n",
    "        with zipfile.ZipFile(zip_path, 'r') as zip_ref:\n",
    "            zip_ref.extractall(output_folder)\n",
    "\n",
    "# png to jpg\n",
    "def convert_png_to_jpg(png_path, output_folder):\n",
    "    with Image.open(png_path) as img:\n",
    "        base_name = os.path.basename(png_path).rsplit('.', 1)[0]\n",
    "        output_path = os.path.join(output_folder, f\"{base_name}.jpg\")\n",
    "        img.convert('RGB').save(output_path, 'JPEG')"
   ]
  },
  {
   "cell_type": "code",
   "execution_count": 2,
   "id": "d4331870",
   "metadata": {
    "ExecuteTime": {
     "start_time": "2023-10-10T12:32:52.269548Z",
     "end_time": "2023-10-10T12:32:52.284509Z"
    }
   },
   "outputs": [],
   "source": [
    "##### 이미지파일 \n",
    "\n",
    "# 경로설정\n",
    "img_train_root_dir = \"D:\\\\Ddrive\\\\3rd\\\\data\\\\01.데이터\\\\Training\\\\01.원천데이터\"\n",
    "img_train_output_dir = \"D:\\\\Ddrive\\\\3rd\\\\data_ex\\\\training\\\\images\"\n",
    "\n",
    "# img_val_root_dir = \"D:\\\\Ddrive\\\\3rd\\\\data\\\\01.데이터\\\\Validation\\\\01.원천데이터\"\n",
    "# img_val_output_dir = \"D:\\\\Ddrive\\\\3rd\\\\data_ex\\\\validation\\\\images\"\n",
    "# img_train_root_dir = img_val_root_dir\n",
    "# img_train_output_dir = img_val_output_dir"
   ]
  },
  {
   "cell_type": "code",
   "execution_count": 3,
   "id": "2be8bdcb",
   "metadata": {
    "ExecuteTime": {
     "start_time": "2023-10-10T12:32:52.289497Z",
     "end_time": "2023-10-10T12:32:52.311435Z"
    }
   },
   "outputs": [],
   "source": [
    "# 압축 파일 목록 가져오기\n",
    "train_zip_files = sorted(glob.glob(os.path.join(img_train_root_dir, \"*.zip\")))\n",
    "\n",
    "# 100개씩 ZIP 파일 압축 해제\n",
    "chunk_size = 100\n",
    "for idx in range(0, len(train_zip_files), chunk_size):\n",
    "    unzip_specific_count(train_zip_files[idx: idx + chunk_size], img_train_output_dir, chunk_size)\n",
    "\n",
    "    # PNG 파일 목록 가져오기\n",
    "    png_files = glob.glob(os.path.join(img_train_output_dir, '*.png'))\n",
    "\n",
    "    # PNG를 JPG로 변환\n",
    "    for png_path in png_files:\n",
    "        convert_png_to_jpg(png_path, img_train_output_dir)\n",
    "        os.remove(png_path)  # PNG 파일 삭제"
   ]
  },
  {
   "cell_type": "code",
   "execution_count": 4,
   "id": "a36bab4a",
   "metadata": {
    "ExecuteTime": {
     "start_time": "2023-10-10T12:32:52.305454Z",
     "end_time": "2023-10-10T12:32:52.321440Z"
    }
   },
   "outputs": [],
   "source": [
    "##### 라벨링 파일\n",
    "\n",
    "lbl_train_root_dir = \"D:\\\\Ddrive\\\\3rd\\\\data\\\\01.데이터\\\\Training\\\\02.라벨링데이터\"\n",
    "lbl_train_output_dir = \"D:\\\\Ddrive\\\\3rd\\\\data_ex\\\\Training\\\\labels\"\n",
    "\n",
    "# lbl_val_root_dir = \"D:\\\\Ddrive\\\\3rd\\\\data\\\\01.데이터\\\\Validation\\\\02.라벨링데이터\"\n",
    "# lbl_val_output_dir = \"D:\\\\Ddrive\\\\3rd\\\\data_ex\\\\Validation\\\\labels\"\n",
    "\n",
    "# lbl_train_root_dir = lbl_val_root_dir\n",
    "# lbl_train_output_dir = lbl_val_output_dir"
   ]
  },
  {
   "cell_type": "code",
   "execution_count": 6,
   "id": "fd3601bf",
   "metadata": {
    "ExecuteTime": {
     "start_time": "2023-10-10T12:33:00.580326Z",
     "end_time": "2023-10-10T12:33:00.606288Z"
    }
   },
   "outputs": [],
   "source": [
    "# 압축 파일 목록 가져오기\n",
    "train_zip_files = sorted(glob.glob(os.path.join(lbl_train_root_dir, \"*.zip\")))\n",
    "\n",
    "# 100개씩 ZIP 파일 압축 해제\n",
    "chunk_size = 100\n",
    "for idx in range(0, len(train_zip_files), chunk_size):\n",
    "    unzip_specific_count(train_zip_files[idx: idx + chunk_size], img_train_output_dir, chunk_size)\n"
   ]
  },
  {
   "cell_type": "markdown",
   "id": "38b137ae",
   "metadata": {},
   "source": [
    "### 파일 조회"
   ]
  },
  {
   "cell_type": "code",
   "execution_count": 7,
   "id": "8501a4fc",
   "metadata": {
    "ExecuteTime": {
     "start_time": "2023-10-10T12:33:01.210640Z",
     "end_time": "2023-10-10T12:33:01.232582Z"
    }
   },
   "outputs": [],
   "source": [
    "img_train_output_dir = \"D:\\\\Ddrive\\\\3rd\\\\data_ex\\\\training\\\\images\"\n",
    "img_val_output_dir = \"D:\\\\Ddrive\\\\3rd\\\\data_ex\\\\validation\\\\images\"\n",
    "\n",
    "lbl_train_output_dir = \"D:\\\\Ddrive\\\\3rd\\\\data_ex\\\\Training\\\\labels\"\n",
    "lbl_val_output_dir = \"D:\\\\Ddrive\\\\3rd\\\\data_ex\\\\Validation\\\\labels\"\n"
   ]
  },
  {
   "cell_type": "code",
   "execution_count": 8,
   "id": "8bd387a6",
   "metadata": {},
   "outputs": [
    {
     "ename": "FileNotFoundError",
     "evalue": "[WinError 3] 지정된 경로를 찾을 수 없습니다: 'D:\\\\Ddrive\\\\3rd\\\\data_ex\\\\Training\\\\labels'",
     "output_type": "error",
     "traceback": [
      "\u001B[1;31m---------------------------------------------------------------------------\u001B[0m",
      "\u001B[1;31mFileNotFoundError\u001B[0m                         Traceback (most recent call last)",
      "Cell \u001B[1;32mIn[8], line 2\u001B[0m\n\u001B[0;32m      1\u001B[0m \u001B[38;5;66;03m##### JSON 파일 하나 읽기\u001B[39;00m\n\u001B[1;32m----> 2\u001B[0m extracted_label_files \u001B[38;5;241m=\u001B[39m \u001B[43mos\u001B[49m\u001B[38;5;241;43m.\u001B[39;49m\u001B[43mlistdir\u001B[49m\u001B[43m(\u001B[49m\u001B[43mlbl_train_output_dir\u001B[49m\u001B[43m)\u001B[49m\n\u001B[0;32m      3\u001B[0m filename \u001B[38;5;241m=\u001B[39m extracted_label_files[\u001B[38;5;241m5\u001B[39m]\n\u001B[0;32m      4\u001B[0m json_file_path \u001B[38;5;241m=\u001B[39m os\u001B[38;5;241m.\u001B[39mpath\u001B[38;5;241m.\u001B[39mjoin(lbl_train_output_dir\u001B[38;5;241m+\u001B[39m\u001B[38;5;124m'\u001B[39m\u001B[38;5;124m/\u001B[39m\u001B[38;5;124m'\u001B[39m\u001B[38;5;241m+\u001B[39mfilename)\n",
      "\u001B[1;31mFileNotFoundError\u001B[0m: [WinError 3] 지정된 경로를 찾을 수 없습니다: 'D:\\\\Ddrive\\\\3rd\\\\data_ex\\\\Training\\\\labels'"
     ]
    }
   ],
   "source": [
    "##### JSON 파일 하나 읽기\n",
    "extracted_label_files = os.listdir(lbl_train_output_dir)\n",
    "filename = extracted_label_files[5]\n",
    "json_file_path = os.path.join(lbl_train_output_dir+'/'+filename)\n",
    "with open(json_file_path, 'r') as json_file:\n",
    "    data = json.load(json_file)\n",
    "data"
   ]
  },
  {
   "cell_type": "code",
   "execution_count": 10,
   "id": "47130f3f",
   "metadata": {},
   "outputs": [],
   "source": [
    "##### 이미지 파일 하나 조회\n",
    "\n",
    "from PIL import Image, ImageDraw, ImageFont\n",
    "\n",
    "# 이미지 파일 경로\n",
    "extracted_label_files = os.listdir(img_train_output_dir)\n",
    "image_file_path = os.path.join(img_train_output_dir+'/'+extracted_label_files[5])\n",
    "\n",
    "# 이미지 열기\n",
    "img = Image.open(image_file_path)\n",
    "\n",
    "# 이미지 위에 박스 좌표 그리기\n",
    "draw = ImageDraw.Draw(img)\n",
    "\n",
    "for annotation in data['annotation']:\n",
    "    box = annotation['box']\n",
    "    x, y, w, h = box['x'], box['y'], box['w'], box['h']\n",
    "    draw.rectangle([x, y, x + w, y + h], outline=\"red\", width=2)\n",
    "\n",
    "    # landmark 그리기\n",
    "    for landmark_point in annotation['landmark']:\n",
    "        lx, ly = landmark_point\n",
    "        draw.ellipse([lx - 2, ly - 2, lx + 2, ly + 2], outline=\"blue\", width=2)\n",
    "\n",
    "    # 박스 좌표 표시\n",
    "    font = ImageFont.truetype(\"arial.ttf\", 12)  # 폰트 및 크기 설정\n",
    "    draw.text((x, y), f\"x: {x}, y: {y}\", fill=\"red\", font=font)\n",
    "    draw.text((x, y + h), f\"w: {w}, h: {h}\", fill=\"red\", font=font)\n",
    "# 이미지 표시\n",
    "img.show()\n"
   ]
  }
 ],
 "metadata": {
  "kernelspec": {
   "display_name": "Python 3 (ipykernel)",
   "language": "python",
   "name": "python3"
  },
  "language_info": {
   "codemirror_mode": {
    "name": "ipython",
    "version": 3
   },
   "file_extension": ".py",
   "mimetype": "text/x-python",
   "name": "python",
   "nbconvert_exporter": "python",
   "pygments_lexer": "ipython3",
   "version": "3.9.13"
  }
 },
 "nbformat": 4,
 "nbformat_minor": 5
}
