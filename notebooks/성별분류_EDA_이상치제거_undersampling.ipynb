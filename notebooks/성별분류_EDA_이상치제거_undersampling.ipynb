{
 "cells": [
  {
   "cell_type": "code",
   "execution_count": 1,
   "id": "74ccc8b2",
   "metadata": {
    "ExecuteTime": {
     "end_time": "2023-10-10T20:03:36.331110Z",
     "start_time": "2023-10-10T20:03:36.310990Z"
    }
   },
   "outputs": [],
   "source": [
    "import json\n",
    "import os\n",
    "import pandas as pd\n",
    "import seaborn as sns"
   ]
  },
  {
   "cell_type": "code",
   "execution_count": 2,
   "id": "21eaa486",
   "metadata": {
    "ExecuteTime": {
     "end_time": "2023-10-10T20:03:36.340065Z",
     "start_time": "2023-10-10T20:03:36.328128Z"
    }
   },
   "outputs": [],
   "source": [
    "# 라벨 데이터 출력\n",
    "def label_data(path_dir):\n",
    "    file_list = os.listdir(path_dir)\n",
    "    label, gender, birth, age_past, device, filenames = [], [], [], [], [], []\n",
    "    for filename in file_list:\n",
    "        # 파일 경로\n",
    "        path = os.path.join(path_dir+'/'+filename)\n",
    "\n",
    "        # json 파일 추출\n",
    "        with open(path, 'r') as label_file:\n",
    "            label_data = json.load(label_file)\n",
    "        \n",
    "        # list\n",
    "        filenames.append(filename)\n",
    "        label.append(label_data['age_past'])\n",
    "        gender.append(label_data['gender'])\n",
    "        birth.append(label_data['birth'])\n",
    "        age_past.append(label_data['age_past'])\n",
    "        device.append(label_data['device'])\n",
    "    return label, gender, birth, age_past, device, filenames"
   ]
  },
  {
   "cell_type": "code",
   "execution_count": 3,
   "id": "b5d0b3a9",
   "metadata": {
    "ExecuteTime": {
     "end_time": "2023-10-10T20:06:45.641304Z",
     "start_time": "2023-10-10T20:03:47.536469Z"
    }
   },
   "outputs": [],
   "source": [
    "lbl_train_output_dir = \"D:\\\\Ddrive\\\\3rd\\\\data_ex\\\\training\\\\labels\"\n",
    "lbl_val_output_dir = \"D:\\\\Ddrive\\\\3rd\\\\data_ex\\\\validation\\\\labels\"\n",
    "\n",
    "## KP 작성 ##\n",
    "# lbl_train_output_dir = \"D:\\\\face_image_data\\\\train\\\\label\"\n",
    "# lbl_val_output_dir = \"D:\\\\face_image_data\\\\valid\\\\label\"\n",
    "## 작성 끝 ##\n",
    "\n",
    "train_labels = label_data(lbl_train_output_dir)\n",
    "val_labels = label_data(lbl_val_output_dir)\n",
    "tr = pd.DataFrame(train_labels)\n",
    "val = pd.DataFrame(val_labels)\n",
    "tr = tr.T\n",
    "val = val.T\n",
    "tr.columns = ['label', 'gender','birth','age_past', 'device', 'filename']\n",
    "val.columns = ['label', 'gender','birth','age_past', 'device','filename']"
   ]
  },
  {
   "cell_type": "code",
   "execution_count": 4,
   "id": "c7554a95",
   "metadata": {},
   "outputs": [
    {
     "name": "stdout",
     "output_type": "stream",
     "text": [
      "<class 'pandas.core.frame.DataFrame'>\n",
      "RangeIndex: 40150 entries, 0 to 40149\n",
      "Data columns (total 6 columns):\n",
      " #   Column    Non-Null Count  Dtype \n",
      "---  ------    --------------  ----- \n",
      " 0   label     40150 non-null  object\n",
      " 1   gender    40150 non-null  object\n",
      " 2   birth     40150 non-null  object\n",
      " 3   age_past  40150 non-null  object\n",
      " 4   device    40150 non-null  object\n",
      " 5   filename  40150 non-null  object\n",
      "dtypes: object(6)\n",
      "memory usage: 1.8+ MB\n"
     ]
    }
   ],
   "source": [
    "tr.info()"
   ]
  },
  {
   "cell_type": "code",
   "execution_count": 5,
   "id": "333f2a1e",
   "metadata": {},
   "outputs": [
    {
     "name": "stdout",
     "output_type": "stream",
     "text": [
      "gender\n",
      "female    22450\n",
      "male      17700\n",
      "Name: count, dtype: int64\n",
      "gender\n",
      "female    2750\n",
      "male      2300\n",
      "Name: count, dtype: int64\n"
     ]
    },
    {
     "name": "stderr",
     "output_type": "stream",
     "text": [
      "c:\\Python\\Python39\\lib\\site-packages\\seaborn\\_oldcore.py:1498: FutureWarning: is_categorical_dtype is deprecated and will be removed in a future version. Use isinstance(dtype, CategoricalDtype) instead\n",
      "  if pd.api.types.is_categorical_dtype(vector):\n",
      "c:\\Python\\Python39\\lib\\site-packages\\seaborn\\_oldcore.py:1498: FutureWarning: is_categorical_dtype is deprecated and will be removed in a future version. Use isinstance(dtype, CategoricalDtype) instead\n",
      "  if pd.api.types.is_categorical_dtype(vector):\n",
      "c:\\Python\\Python39\\lib\\site-packages\\seaborn\\_oldcore.py:1498: FutureWarning: is_categorical_dtype is deprecated and will be removed in a future version. Use isinstance(dtype, CategoricalDtype) instead\n",
      "  if pd.api.types.is_categorical_dtype(vector):\n",
      "c:\\Python\\Python39\\lib\\site-packages\\seaborn\\_oldcore.py:1498: FutureWarning: is_categorical_dtype is deprecated and will be removed in a future version. Use isinstance(dtype, CategoricalDtype) instead\n",
      "  if pd.api.types.is_categorical_dtype(vector):\n",
      "c:\\Python\\Python39\\lib\\site-packages\\seaborn\\_oldcore.py:1498: FutureWarning: is_categorical_dtype is deprecated and will be removed in a future version. Use isinstance(dtype, CategoricalDtype) instead\n",
      "  if pd.api.types.is_categorical_dtype(vector):\n",
      "c:\\Python\\Python39\\lib\\site-packages\\seaborn\\_oldcore.py:1498: FutureWarning: is_categorical_dtype is deprecated and will be removed in a future version. Use isinstance(dtype, CategoricalDtype) instead\n",
      "  if pd.api.types.is_categorical_dtype(vector):\n"
     ]
    },
    {
     "data": {
      "image/png": "[encoded data removed]",
      "text/plain": [
       "<Figure size 1000x700 with 2 Axes>"
      ]
     },
     "metadata": {},
     "output_type": "display_data"
    }
   ],
   "source": [
    "# Gender class\n",
    "\n",
    "import matplotlib.pyplot as plt\n",
    "\n",
    "print(tr.gender.value_counts()), print(val.gender.value_counts())\n",
    "\n",
    "plt.figure(figsize = (10, 7))\n",
    "plt.subplot(2,2,1)\n",
    "sns.countplot(x='gender', data=tr, palette='Purples_d')\n",
    "plt.title('Train data Gender Counts')\n",
    "\n",
    "plt.subplot(2,2,2)\n",
    "sns.countplot(x='gender', data=val, palette='Reds_d')\n",
    "plt.title('Test data Gender Counts')\n",
    "\n",
    "plt.show()"
   ]
  },
  {
   "cell_type": "code",
   "execution_count": 6,
   "id": "5d7d1d0e",
   "metadata": {},
   "outputs": [
    {
     "name": "stdout",
     "output_type": "stream",
     "text": [
      "device\n",
      "film       20186\n",
      "digital    19964\n",
      "Name: count, dtype: int64\n",
      "device\n",
      "film       2536\n",
      "digital    2514\n",
      "Name: count, dtype: int64\n"
     ]
    },
    {
     "name": "stderr",
     "output_type": "stream",
     "text": [
      "c:\\Python\\Python39\\lib\\site-packages\\seaborn\\_oldcore.py:1498: FutureWarning: is_categorical_dtype is deprecated and will be removed in a future version. Use isinstance(dtype, CategoricalDtype) instead\n",
      "  if pd.api.types.is_categorical_dtype(vector):\n",
      "c:\\Python\\Python39\\lib\\site-packages\\seaborn\\_oldcore.py:1498: FutureWarning: is_categorical_dtype is deprecated and will be removed in a future version. Use isinstance(dtype, CategoricalDtype) instead\n",
      "  if pd.api.types.is_categorical_dtype(vector):\n",
      "c:\\Python\\Python39\\lib\\site-packages\\seaborn\\_oldcore.py:1498: FutureWarning: is_categorical_dtype is deprecated and will be removed in a future version. Use isinstance(dtype, CategoricalDtype) instead\n",
      "  if pd.api.types.is_categorical_dtype(vector):\n",
      "c:\\Python\\Python39\\lib\\site-packages\\seaborn\\_oldcore.py:1498: FutureWarning: is_categorical_dtype is deprecated and will be removed in a future version. Use isinstance(dtype, CategoricalDtype) instead\n",
      "  if pd.api.types.is_categorical_dtype(vector):\n",
      "c:\\Python\\Python39\\lib\\site-packages\\seaborn\\_oldcore.py:1498: FutureWarning: is_categorical_dtype is deprecated and will be removed in a future version. Use isinstance(dtype, CategoricalDtype) instead\n",
      "  if pd.api.types.is_categorical_dtype(vector):\n",
      "c:\\Python\\Python39\\lib\\site-packages\\seaborn\\_oldcore.py:1498: FutureWarning: is_categorical_dtype is deprecated and will be removed in a future version. Use isinstance(dtype, CategoricalDtype) instead\n",
      "  if pd.api.types.is_categorical_dtype(vector):\n"
     ]
    },
    {
     "data": {
      "image/png": "[encoded data removed]",
      "text/plain": [
       "<Figure size 1000x700 with 2 Axes>"
      ]
     },
     "metadata": {},
     "output_type": "display_data"
    }
   ],
   "source": [
    "# device class\n",
    "print(tr.device.value_counts()), print(val.device.value_counts())\n",
    "\n",
    "plt.figure(figsize = (10, 7))\n",
    "plt.subplot(2,2,1)\n",
    "sns.countplot(x='device', data=tr, palette='Greens_d')\n",
    "plt.title('Train data Device Counts')\n",
    "\n",
    "plt.subplot(2,2,2)\n",
    "sns.countplot(x='device', data=val, palette='Blues_d')\n",
    "plt.title('Test data Device Counts')\n",
    "\n",
    "plt.show()"
   ]
  },
  {
   "cell_type": "code",
   "execution_count": 7,
   "id": "5895e27a",
   "metadata": {},
   "outputs": [],
   "source": [
    "# pictured_year : 촬영나이 + 생년\n",
    "\n",
    "tr.birth = tr.birth.astype('int')\n",
    "tr.age_past = tr.age_past.astype('int')\n",
    "tr['pictured_year'] = tr.birth + tr.age_past   # 사진 찍은 연도\n",
    "\n",
    "val.birth = val.birth.astype('int')\n",
    "val.age_past = val.age_past.astype('int')\n",
    "val['pictured_year'] = val.birth + val.age_past"
   ]
  },
  {
   "cell_type": "code",
   "execution_count": 8,
   "id": "35d90e5c",
   "metadata": {},
   "outputs": [],
   "source": [
    "tr_value_counts = pd.DataFrame(tr.pictured_year.value_counts())\n",
    "val_value_counts = pd.DataFrame(val.pictured_year.value_counts())"
   ]
  },
  {
   "cell_type": "code",
   "execution_count": 9,
   "id": "740ac804",
   "metadata": {},
   "outputs": [],
   "source": [
    "year = pd.concat([tr_value_counts, val_value_counts], axis=1).fillna(int(0))\n",
    "year.columns=['train', 'val']"
   ]
  },
  {
   "cell_type": "code",
   "execution_count": 10,
   "id": "55207c57",
   "metadata": {},
   "outputs": [
    {
     "data": {
      "text/html": [
       "<div>\n",
       "<style scoped>\n",
       "    .dataframe tbody tr th:only-of-type {\n",
       "        vertical-align: middle;\n",
       "    }\n",
       "\n",
       "    .dataframe tbody tr th {\n",
       "        vertical-align: top;\n",
       "    }\n",
       "\n",
       "    .dataframe thead th {\n",
       "        text-align: right;\n",
       "    }\n",
       "</style>\n",
       "<table border=\"1\" class=\"dataframe\">\n",
       "  <thead>\n",
       "    <tr style=\"text-align: right;\">\n",
       "      <th></th>\n",
       "      <th>train</th>\n",
       "      <th>val</th>\n",
       "    </tr>\n",
       "    <tr>\n",
       "      <th>pictured_year</th>\n",
       "      <th></th>\n",
       "      <th></th>\n",
       "    </tr>\n",
       "  </thead>\n",
       "  <tbody>\n",
       "    <tr>\n",
       "      <th>1944</th>\n",
       "      <td>1.0</td>\n",
       "      <td>0.0</td>\n",
       "    </tr>\n",
       "    <tr>\n",
       "      <th>1945</th>\n",
       "      <td>1.0</td>\n",
       "      <td>0.0</td>\n",
       "    </tr>\n",
       "    <tr>\n",
       "      <th>1948</th>\n",
       "      <td>0.0</td>\n",
       "      <td>1.0</td>\n",
       "    </tr>\n",
       "    <tr>\n",
       "      <th>1953</th>\n",
       "      <td>2.0</td>\n",
       "      <td>0.0</td>\n",
       "    </tr>\n",
       "    <tr>\n",
       "      <th>1956</th>\n",
       "      <td>1.0</td>\n",
       "      <td>1.0</td>\n",
       "    </tr>\n",
       "    <tr>\n",
       "      <th>...</th>\n",
       "      <td>...</td>\n",
       "      <td>...</td>\n",
       "    </tr>\n",
       "    <tr>\n",
       "      <th>2026</th>\n",
       "      <td>14.0</td>\n",
       "      <td>0.0</td>\n",
       "    </tr>\n",
       "    <tr>\n",
       "      <th>2027</th>\n",
       "      <td>11.0</td>\n",
       "      <td>0.0</td>\n",
       "    </tr>\n",
       "    <tr>\n",
       "      <th>2028</th>\n",
       "      <td>4.0</td>\n",
       "      <td>0.0</td>\n",
       "    </tr>\n",
       "    <tr>\n",
       "      <th>2029</th>\n",
       "      <td>2.0</td>\n",
       "      <td>0.0</td>\n",
       "    </tr>\n",
       "    <tr>\n",
       "      <th>2031</th>\n",
       "      <td>3.0</td>\n",
       "      <td>0.0</td>\n",
       "    </tr>\n",
       "  </tbody>\n",
       "</table>\n",
       "<p>79 rows × 2 columns</p>\n",
       "</div>"
      ],
      "text/plain": [
       "               train  val\n",
       "pictured_year            \n",
       "1944             1.0  0.0\n",
       "1945             1.0  0.0\n",
       "1948             0.0  1.0\n",
       "1953             2.0  0.0\n",
       "1956             1.0  1.0\n",
       "...              ...  ...\n",
       "2026            14.0  0.0\n",
       "2027            11.0  0.0\n",
       "2028             4.0  0.0\n",
       "2029             2.0  0.0\n",
       "2031             3.0  0.0\n",
       "\n",
       "[79 rows x 2 columns]"
      ]
     },
     "execution_count": 10,
     "metadata": {},
     "output_type": "execute_result"
    }
   ],
   "source": [
    "year.sort_index()"
   ]
  },
  {
   "cell_type": "code",
   "execution_count": 11,
   "id": "bcc6fd18",
   "metadata": {},
   "outputs": [
    {
     "data": {
      "image/png": "[encoded data removed]",
      "text/plain": [
       "<Figure size 1500x600 with 1 Axes>"
      ]
     },
     "metadata": {},
     "output_type": "display_data"
    }
   ],
   "source": [
    "sorted_year = year.sort_index(ascending=False)\n",
    "\n",
    "# 막대 그래프 그리기\n",
    "plt.figure(figsize=(15,6))\n",
    "plt.bar(year.index, year.train, color='gray')\n",
    "plt.plot(sorted_year.index, year.val, marker='o', color='red')\n",
    "\n",
    "# 그래프 제목 및 축 레이블 설정\n",
    "plt.title('Photo Pictured Year')\n",
    "plt.xlabel('Year')\n",
    "plt.ylabel('Frequency')\n",
    "\n",
    "# 그래프 표시\n",
    "plt.legend(['test data', 'train data'], loc='upper left')\n",
    "plt.show()"
   ]
  },
  {
   "cell_type": "markdown",
   "id": "43abba61",
   "metadata": {},
   "source": [
    "#### 1. [촬영나이 + 출생연도 > 2023년] 인 데이터 제외"
   ]
  },
  {
   "cell_type": "code",
   "execution_count": 12,
   "id": "b5263810",
   "metadata": {},
   "outputs": [
    {
     "data": {
      "text/plain": [
       "(103, 0.0025653798256537984, 7, 0.001386138613861386)"
      ]
     },
     "execution_count": 12,
     "metadata": {},
     "output_type": "execute_result"
    }
   ],
   "source": [
    "len(tr[tr.pictured_year>2023]), len(tr[tr.pictured_year>2023])/len(tr), len(val[val.pictured_year>2023]), len(val[val.pictured_year>2023])/len(val)"
   ]
  },
  {
   "cell_type": "code",
   "execution_count": 13,
   "id": "f2b02f6e",
   "metadata": {},
   "outputs": [],
   "source": [
    "except_tr = tr[tr.pictured_year>2023].filename\n",
    "except_val = val[val.pictured_year>2023].filename"
   ]
  },
  {
   "cell_type": "code",
   "execution_count": 14,
   "id": "5534e88a",
   "metadata": {},
   "outputs": [
    {
     "data": {
      "text/plain": [
       "(40047, 5043)"
      ]
     },
     "execution_count": 14,
     "metadata": {},
     "output_type": "execute_result"
    }
   ],
   "source": [
    "tr = tr[tr.pictured_year<=2023]\n",
    "val = val[val.pictured_year<=2023]\n",
    "\n",
    "len(tr), len(val)"
   ]
  },
  {
   "cell_type": "code",
   "execution_count": 15,
   "id": "4e72f0b6",
   "metadata": {},
   "outputs": [
    {
     "data": {
      "image/png": "[encoded data removed]",
      "text/plain": [
       "<Figure size 1500x600 with 1 Axes>"
      ]
     },
     "metadata": {},
     "output_type": "display_data"
    }
   ],
   "source": [
    "# 그래프 다시 그리기\n",
    "tr_value_counts = pd.DataFrame(tr.pictured_year.value_counts())\n",
    "val_value_counts = pd.DataFrame(val.pictured_year.value_counts())\n",
    "\n",
    "year = pd.concat([tr_value_counts, val_value_counts], axis=1).fillna(int(0))\n",
    "year.columns=['train', 'val']\n",
    "\n",
    "sorted_year = year.sort_index(ascending=False)\n",
    "\n",
    "plt.figure(figsize=(15,6))\n",
    "plt.bar(year.index, year.train, color='gray')\n",
    "plt.plot(sorted_year.index, year.val, marker='o', color='red')\n",
    "\n",
    "# 그래프 제목 및 축 레이블 설정\n",
    "plt.title('Photo Pictured Year')\n",
    "plt.xlabel('Year')\n",
    "plt.ylabel('Frequency')\n",
    "\n",
    "# 그래프 표시\n",
    "plt.legend(['test data', 'train data'], loc='upper left')\n",
    "plt.show()"
   ]
  },
  {
   "cell_type": "markdown",
   "id": "bd5cc554",
   "metadata": {},
   "source": [
    "#### 2. failed_list 제외"
   ]
  },
  {
   "cell_type": "code",
   "execution_count": 16,
   "id": "6b1abc9c",
   "metadata": {},
   "outputs": [],
   "source": [
    "# except_list\n",
    "except_tr = except_tr.to_list()\n",
    "except_val = except_val.to_list()\n",
    "\n",
    "except_tr = pd.DataFrame(except_tr)\n",
    "except_val = pd.DataFrame(except_val)\n",
    "\n",
    "except_tr.columns = ['list']\n",
    "except_val.columns = ['list']"
   ]
  },
  {
   "cell_type": "code",
   "execution_count": 17,
   "id": "f80a4648",
   "metadata": {},
   "outputs": [
    {
     "data": {
      "text/html": [
       "<div>\n",
       "<style scoped>\n",
       "    .dataframe tbody tr th:only-of-type {\n",
       "        vertical-align: middle;\n",
       "    }\n",
       "\n",
       "    .dataframe tbody tr th {\n",
       "        vertical-align: top;\n",
       "    }\n",
       "\n",
       "    .dataframe thead th {\n",
       "        text-align: right;\n",
       "    }\n",
       "</style>\n",
       "<table border=\"1\" class=\"dataframe\">\n",
       "  <thead>\n",
       "    <tr style=\"text-align: right;\">\n",
       "      <th></th>\n",
       "      <th>list</th>\n",
       "    </tr>\n",
       "  </thead>\n",
       "  <tbody>\n",
       "    <tr>\n",
       "      <th>0</th>\n",
       "      <td>0001_1992_01_00000001_F.jpg</td>\n",
       "    </tr>\n",
       "    <tr>\n",
       "      <th>1</th>\n",
       "      <td>0002_1997_05_00000017_F.jpg</td>\n",
       "    </tr>\n",
       "    <tr>\n",
       "      <th>2</th>\n",
       "      <td>0002_1997_05_00000019_F.jpg</td>\n",
       "    </tr>\n",
       "    <tr>\n",
       "      <th>3</th>\n",
       "      <td>0002_1997_15_00000032_F.jpg</td>\n",
       "    </tr>\n",
       "    <tr>\n",
       "      <th>4</th>\n",
       "      <td>0003_1988_10_00000018_F.jpg</td>\n",
       "    </tr>\n",
       "  </tbody>\n",
       "</table>\n",
       "</div>"
      ],
      "text/plain": [
       "                          list\n",
       "0  0001_1992_01_00000001_F.jpg\n",
       "1  0002_1997_05_00000017_F.jpg\n",
       "2  0002_1997_05_00000019_F.jpg\n",
       "3  0002_1997_15_00000032_F.jpg\n",
       "4  0003_1988_10_00000018_F.jpg"
      ]
     },
     "execution_count": 17,
     "metadata": {},
     "output_type": "execute_result"
    }
   ],
   "source": [
    "# failed_list\n",
    "path_dir_train = \"D:/Ddrive/3rd/git/test/list/failed_list_train.csv\"\n",
    "path_dir_val = \"D:/Ddrive/3rd/git/test/list/failed_list_val.csv\"\n",
    "list = pd.read_csv(path_dir_train)\n",
    "list_val = pd.read_csv(path_dir_val)\n",
    "list.columns = ['list']\n",
    "list_val.columns = ['list']\n",
    "list.head()"
   ]
  },
  {
   "cell_type": "code",
   "execution_count": 18,
   "id": "ec314b5f",
   "metadata": {},
   "outputs": [
    {
     "name": "stdout",
     "output_type": "stream",
     "text": [
      "3330\n",
      "3324\n",
      "521\n",
      "520\n"
     ]
    }
   ],
   "source": [
    "# 두 제외 리스트 concat\n",
    "list_concat = pd.concat([list, except_tr], axis=0)\n",
    "list_concat = list_concat.apply(lambda x: x.str.replace('jpg','json'))\n",
    "print(len(list_concat))\n",
    "list_concat = list_concat.drop_duplicates()   # 중복제거\n",
    "print(len(list_concat))\n",
    "# list_concat.to_csv(\"D:/Ddrive/3rd/git/test/failed_list_train_add.csv\")\n",
    "\n",
    "# 두 제외 리스트 concat\n",
    "list_concat_val = pd.concat([list_val, except_val], axis=0)\n",
    "list_concat_val = list_concat_val.apply(lambda x: x.str.replace('jpg','json'))\n",
    "print(len(list_concat_val))\n",
    "list_concat_val = list_concat_val.drop_duplicates()   # 중복제거\n",
    "print(len(list_concat_val))\n",
    "# list_concat_val.to_csv(\"D:/Ddrive/3rd/git/test/failed_list_val_add.csv\")\n"
   ]
  },
  {
   "cell_type": "code",
   "execution_count": 19,
   "id": "d3f12bcf",
   "metadata": {},
   "outputs": [
    {
     "data": {
      "text/html": [
       "<div>\n",
       "<style scoped>\n",
       "    .dataframe tbody tr th:only-of-type {\n",
       "        vertical-align: middle;\n",
       "    }\n",
       "\n",
       "    .dataframe tbody tr th {\n",
       "        vertical-align: top;\n",
       "    }\n",
       "\n",
       "    .dataframe thead th {\n",
       "        text-align: right;\n",
       "    }\n",
       "</style>\n",
       "<table border=\"1\" class=\"dataframe\">\n",
       "  <thead>\n",
       "    <tr style=\"text-align: right;\">\n",
       "      <th></th>\n",
       "      <th>list</th>\n",
       "    </tr>\n",
       "  </thead>\n",
       "  <tbody>\n",
       "    <tr>\n",
       "      <th>0</th>\n",
       "      <td>0001_1992_01_00000001_F.json</td>\n",
       "    </tr>\n",
       "    <tr>\n",
       "      <th>1</th>\n",
       "      <td>0001_1992_02_00000002_F.json</td>\n",
       "    </tr>\n",
       "    <tr>\n",
       "      <th>2</th>\n",
       "      <td>0001_1992_02_00000003_F.json</td>\n",
       "    </tr>\n",
       "    <tr>\n",
       "      <th>3</th>\n",
       "      <td>0001_1992_03_00000004_F.json</td>\n",
       "    </tr>\n",
       "    <tr>\n",
       "      <th>4</th>\n",
       "      <td>0001_1992_03_00000005_F.json</td>\n",
       "    </tr>\n",
       "  </tbody>\n",
       "</table>\n",
       "</div>"
      ],
      "text/plain": [
       "                           list\n",
       "0  0001_1992_01_00000001_F.json\n",
       "1  0001_1992_02_00000002_F.json\n",
       "2  0001_1992_02_00000003_F.json\n",
       "3  0001_1992_03_00000004_F.json\n",
       "4  0001_1992_03_00000005_F.json"
      ]
     },
     "execution_count": 19,
     "metadata": {},
     "output_type": "execute_result"
    }
   ],
   "source": [
    "# 전체 train데이터리스트\n",
    "tr_list = os.listdir(lbl_train_output_dir)\n",
    "tr_list = pd.DataFrame(tr_list)\n",
    "tr_list.columns=['list']\n",
    "tr_list.head()"
   ]
  },
  {
   "cell_type": "code",
   "execution_count": 20,
   "id": "ef33a078",
   "metadata": {},
   "outputs": [
    {
     "name": "stdout",
     "output_type": "stream",
     "text": [
      "36839\n"
     ]
    }
   ],
   "source": [
    "# 전체 train_list에서 일부 데이터 제외\n",
    "final_list = tr_list.merge(list_concat, on='list', how='left', indicator=True).query('_merge == \"left_only\"').drop('_merge', axis=1)\n",
    "print(len(final_list))\n",
    "# final_list.to_csv(\"D:\\\\Ddrive\\\\3rd\\\\git\\\\test\\\\final_tr_list_add.csv\")"
   ]
  },
  {
   "cell_type": "code",
   "execution_count": 21,
   "id": "6d99b437",
   "metadata": {},
   "outputs": [
    {
     "name": "stdout",
     "output_type": "stream",
     "text": [
      "4571\n"
     ]
    }
   ],
   "source": [
    "# val데이터리스트\n",
    "val_list = os.listdir(lbl_val_output_dir)\n",
    "val_list = pd.DataFrame(val_list)\n",
    "val_list.columns=['list']\n",
    "final_list_val = val_list.merge(list_concat_val, on='list', how='left', indicator=True).query('_merge == \"left_only\"').drop('_merge', axis=1)\n",
    "print(len(final_list_val))\n",
    "# final_list_val.to_csv(\"D:\\\\Ddrive\\\\3rd\\\\git\\\\test\\\\final_val_list_add.csv\")"
   ]
  },
  {
   "cell_type": "code",
   "execution_count": 4,
   "id": "5bad0fae",
   "metadata": {},
   "outputs": [
    {
     "name": "stdout",
     "output_type": "stream",
     "text": [
      "# Dataset after preprocessing\n",
      "Whole dataset:  41410\n",
      "Train dataset:  36839\n",
      "Test dataset:  4571\n"
     ]
    }
   ],
   "source": [
    "# import pandas as pd\n",
    "# final_list = pd.read_csv(\"D:\\\\Ddrive\\\\3rd\\\\git\\\\test\\\\list\\\\final_tr_list_add.csv\")\n",
    "# final_list_val = pd.read_csv(\"D:\\\\Ddrive\\\\3rd\\\\git\\\\test\\\\list\\\\final_val_list_add.csv\")\n",
    "print('# Dataset after preprocessing')\n",
    "print('Whole dataset: ', len(final_list) + len(final_list_val))\n",
    "print('Train dataset: ', len(final_list))\n",
    "print('Test dataset: ', len(final_list_val))"
   ]
  },
  {
   "cell_type": "markdown",
   "id": "1703f5de",
   "metadata": {},
   "source": [
    "#### 3. 제외 후 성별 클래스 비교"
   ]
  },
  {
   "cell_type": "code",
   "execution_count": 22,
   "id": "cb2b55f7",
   "metadata": {},
   "outputs": [],
   "source": [
    "def label_data_ex(path_dir):\n",
    "    file_list = os.listdir(path_dir)\n",
    "    label, gender, birth, age_past, device = [], [], [], [], []\n",
    "    file_list = final_list\n",
    "    for filename in file_list.list:\n",
    "        # 파일 경로\n",
    "        path = os.path.join(path_dir+'\\\\'+filename)\n",
    "\n",
    "        # json 파일 추출\n",
    "        with open(path, 'r') as label_file:\n",
    "            label_data = json.load(label_file)        \n",
    "        # list\n",
    "        label.append(label_data['age_past'])\n",
    "        gender.append(label_data['gender'])\n",
    "        birth.append(label_data['birth'])\n",
    "        age_past.append(label_data['age_past'])\n",
    "        device.append(label_data['device'])\n",
    "        \n",
    "    return label, gender, birth, age_past, device"
   ]
  },
  {
   "cell_type": "code",
   "execution_count": 23,
   "id": "a883f3f6",
   "metadata": {},
   "outputs": [
    {
     "data": {
      "text/plain": [
       "(36839,\n",
       "   label gender birth age_past device\n",
       " 0     2   male  1992        2   film\n",
       " 1     2   male  1992        2   film\n",
       " 2     3   male  1992        3   film\n",
       " 3     3   male  1992        3   film\n",
       " 4     3   male  1992        3   film)"
      ]
     },
     "execution_count": 23,
     "metadata": {},
     "output_type": "execute_result"
    }
   ],
   "source": [
    "train_labels_ex = label_data_ex(lbl_train_output_dir)\n",
    "tr_ex = pd.DataFrame(train_labels_ex)\n",
    "tr_ex = tr_ex.T\n",
    "tr_ex.columns = ['label', 'gender','birth','age_past', 'device']\n",
    "len(tr_ex), tr_ex.head()"
   ]
  },
  {
   "cell_type": "code",
   "execution_count": 24,
   "id": "4c52b7df",
   "metadata": {},
   "outputs": [
    {
     "name": "stdout",
     "output_type": "stream",
     "text": [
      "gender\n",
      "female    20834\n",
      "male      16005\n",
      "Name: count, dtype: int64\n"
     ]
    },
    {
     "name": "stderr",
     "output_type": "stream",
     "text": [
      "c:\\Python\\Python39\\lib\\site-packages\\seaborn\\_oldcore.py:1498: FutureWarning: is_categorical_dtype is deprecated and will be removed in a future version. Use isinstance(dtype, CategoricalDtype) instead\n",
      "  if pd.api.types.is_categorical_dtype(vector):\n",
      "c:\\Python\\Python39\\lib\\site-packages\\seaborn\\_oldcore.py:1498: FutureWarning: is_categorical_dtype is deprecated and will be removed in a future version. Use isinstance(dtype, CategoricalDtype) instead\n",
      "  if pd.api.types.is_categorical_dtype(vector):\n",
      "c:\\Python\\Python39\\lib\\site-packages\\seaborn\\_oldcore.py:1498: FutureWarning: is_categorical_dtype is deprecated and will be removed in a future version. Use isinstance(dtype, CategoricalDtype) instead\n",
      "  if pd.api.types.is_categorical_dtype(vector):\n"
     ]
    },
    {
     "data": {
      "text/plain": [
       "Text(0.5, 1.0, 'Train data without exception Gender Counts')"
      ]
     },
     "execution_count": 24,
     "metadata": {},
     "output_type": "execute_result"
    },
    {
     "data": {
      "image/png": "[encoded data removed]",
      "text/plain": [
       "<Figure size 700x500 with 1 Axes>"
      ]
     },
     "metadata": {},
     "output_type": "display_data"
    }
   ],
   "source": [
    "print(tr_ex.gender.value_counts())\n",
    "\n",
    "plt.figure(figsize = (7, 5))\n",
    "sns.countplot(x='gender', data=tr_ex, palette='Reds_d')\n",
    "plt.title('Train data without exception Gender Counts')"
   ]
  },
  {
   "cell_type": "markdown",
   "id": "2d48b0ef",
   "metadata": {},
   "source": [
    "#### → 이진분류 시 Undersampling 필요!"
   ]
  }
 ],
 "metadata": {
  "kernelspec": {
   "display_name": "Python 3 (ipykernel)",
   "language": "python",
   "name": "python3"
  },
  "language_info": {
   "codemirror_mode": {
    "name": "ipython",
    "version": 3
   },
   "file_extension": ".py",
   "mimetype": "text/x-python",
   "name": "python",
   "nbconvert_exporter": "python",
   "pygments_lexer": "ipython3",
   "version": "3.9.13"
  }
 },
 "nbformat": 4,
 "nbformat_minor": 5
}
