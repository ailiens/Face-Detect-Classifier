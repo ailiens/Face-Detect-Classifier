{
 "cells": [
  {
   "cell_type": "markdown",
   "id": "0c40d963",
   "metadata": {},
   "source": [
    "### 데이터 EDA\n"
   ]
  },
  {
   "cell_type": "code",
   "execution_count": 1,
   "id": "74ccc8b2",
   "metadata": {
    "ExecuteTime": {
     "start_time": "2023-10-10T11:36:42.188546Z",
     "end_time": "2023-10-10T11:36:43.046117Z"
    }
   },
   "outputs": [],
   "source": [
    "import json\n",
    "import os\n",
    "import pandas as pd"
   ]
  },
  {
   "cell_type": "code",
   "execution_count": 2,
   "id": "151e8a3f",
   "metadata": {
    "ExecuteTime": {
     "start_time": "2023-10-10T11:36:43.050107Z",
     "end_time": "2023-10-10T11:36:43.062075Z"
    }
   },
   "outputs": [],
   "source": [
    "# 라벨 데이터 나이값 출력\n",
    "def label_data(path_dir):\n",
    "    file_list = os.listdir(path_dir)\n",
    "    label, box, landmarks = [], [], []\n",
    "    for filename in file_list:\n",
    "        # 파일 경로\n",
    "        path = os.path.join(path_dir+'/'+filename)\n",
    "\n",
    "        # json 파일 추출\n",
    "        with open(path, 'r') as label_file:\n",
    "            label_data = json.load(label_file)\n",
    "        \n",
    "        # list\n",
    "        label.append(label_data['age_past'])\n",
    "        box.append(label_data['annotation'][0]['box'])\n",
    "        landmarks.append(label_data['annotation'][0]['landmark'])\n",
    "    return label, box, landmarks"
   ]
  },
  {
   "cell_type": "code",
   "execution_count": 3,
   "id": "1f08627a",
   "metadata": {
    "ExecuteTime": {
     "start_time": "2023-10-10T11:10:21.886629Z",
     "end_time": "2023-10-10T11:14:55.858041Z"
    }
   },
   "outputs": [
    {
     "ename": "PermissionError",
     "evalue": "[Errno 13] Permission denied: 'D:\\\\face_image_data\\\\train\\\\label/00~09'",
     "output_type": "error",
     "traceback": [
      "\u001B[1;31m---------------------------------------------------------------------------\u001B[0m",
      "\u001B[1;31mPermissionError\u001B[0m                           Traceback (most recent call last)",
      "Cell \u001B[1;32mIn[3], line 6\u001B[0m\n\u001B[0;32m      3\u001B[0m lbl_val_output_dir \u001B[38;5;241m=\u001B[39m \u001B[38;5;124m\"\u001B[39m\u001B[38;5;124mD:\u001B[39m\u001B[38;5;130;01m\\\\\u001B[39;00m\u001B[38;5;124mface_image_data\u001B[39m\u001B[38;5;130;01m\\\\\u001B[39;00m\u001B[38;5;124mvalid\u001B[39m\u001B[38;5;130;01m\\\\\u001B[39;00m\u001B[38;5;124mlabel\u001B[39m\u001B[38;5;124m\"\u001B[39m\n\u001B[0;32m      5\u001B[0m \u001B[38;5;66;03m# train_data = img_data(img_train_output_dir)\u001B[39;00m\n\u001B[1;32m----> 6\u001B[0m train_labels, train_box, train_landmarks \u001B[38;5;241m=\u001B[39m \u001B[43mlabel_data\u001B[49m\u001B[43m(\u001B[49m\u001B[43mlbl_train_output_dir\u001B[49m\u001B[43m)\u001B[49m\n\u001B[0;32m      8\u001B[0m \u001B[38;5;66;03m# test_data = img_data(img_val_output_dir)\u001B[39;00m\n\u001B[0;32m      9\u001B[0m test_labels, test_box, test_landmarks \u001B[38;5;241m=\u001B[39m label_data(lbl_val_output_dir)\n",
      "Cell \u001B[1;32mIn[2], line 10\u001B[0m, in \u001B[0;36mlabel_data\u001B[1;34m(path_dir)\u001B[0m\n\u001B[0;32m      7\u001B[0m path \u001B[38;5;241m=\u001B[39m os\u001B[38;5;241m.\u001B[39mpath\u001B[38;5;241m.\u001B[39mjoin(path_dir\u001B[38;5;241m+\u001B[39m\u001B[38;5;124m'\u001B[39m\u001B[38;5;124m/\u001B[39m\u001B[38;5;124m'\u001B[39m\u001B[38;5;241m+\u001B[39mfilename)\n\u001B[0;32m      9\u001B[0m \u001B[38;5;66;03m# json 파일 추출\u001B[39;00m\n\u001B[1;32m---> 10\u001B[0m \u001B[38;5;28;01mwith\u001B[39;00m \u001B[38;5;28;43mopen\u001B[39;49m\u001B[43m(\u001B[49m\u001B[43mpath\u001B[49m\u001B[43m,\u001B[49m\u001B[43m \u001B[49m\u001B[38;5;124;43m'\u001B[39;49m\u001B[38;5;124;43mr\u001B[39;49m\u001B[38;5;124;43m'\u001B[39;49m\u001B[43m)\u001B[49m \u001B[38;5;28;01mas\u001B[39;00m label_file:\n\u001B[0;32m     11\u001B[0m     label_data \u001B[38;5;241m=\u001B[39m json\u001B[38;5;241m.\u001B[39mload(label_file)\n\u001B[0;32m     13\u001B[0m \u001B[38;5;66;03m# list\u001B[39;00m\n",
      "File \u001B[1;32m~\\AppData\\Roaming\\Python\\Python39\\site-packages\\IPython\\core\\interactiveshell.py:284\u001B[0m, in \u001B[0;36m_modified_open\u001B[1;34m(file, *args, **kwargs)\u001B[0m\n\u001B[0;32m    277\u001B[0m \u001B[38;5;28;01mif\u001B[39;00m file \u001B[38;5;129;01min\u001B[39;00m {\u001B[38;5;241m0\u001B[39m, \u001B[38;5;241m1\u001B[39m, \u001B[38;5;241m2\u001B[39m}:\n\u001B[0;32m    278\u001B[0m     \u001B[38;5;28;01mraise\u001B[39;00m \u001B[38;5;167;01mValueError\u001B[39;00m(\n\u001B[0;32m    279\u001B[0m         \u001B[38;5;124mf\u001B[39m\u001B[38;5;124m\"\u001B[39m\u001B[38;5;124mIPython won\u001B[39m\u001B[38;5;124m'\u001B[39m\u001B[38;5;124mt let you open fd=\u001B[39m\u001B[38;5;132;01m{\u001B[39;00mfile\u001B[38;5;132;01m}\u001B[39;00m\u001B[38;5;124m by default \u001B[39m\u001B[38;5;124m\"\u001B[39m\n\u001B[0;32m    280\u001B[0m         \u001B[38;5;124m\"\u001B[39m\u001B[38;5;124mas it is likely to crash IPython. If you know what you are doing, \u001B[39m\u001B[38;5;124m\"\u001B[39m\n\u001B[0;32m    281\u001B[0m         \u001B[38;5;124m\"\u001B[39m\u001B[38;5;124myou can use builtins\u001B[39m\u001B[38;5;124m'\u001B[39m\u001B[38;5;124m open.\u001B[39m\u001B[38;5;124m\"\u001B[39m\n\u001B[0;32m    282\u001B[0m     )\n\u001B[1;32m--> 284\u001B[0m \u001B[38;5;28;01mreturn\u001B[39;00m io_open(file, \u001B[38;5;241m*\u001B[39margs, \u001B[38;5;241m*\u001B[39m\u001B[38;5;241m*\u001B[39mkwargs)\n",
      "\u001B[1;31mPermissionError\u001B[0m: [Errno 13] Permission denied: 'D:\\\\face_image_data\\\\train\\\\label/00~09'"
     ]
    }
   ],
   "source": [
    "# lbl_train_output_dir = \"D:\\\\Ddrive\\\\3rd\\\\data_ex\\\\training\\\\labels\"\n",
    "lbl_train_output_dir = 'D:\\\\face_image_data\\\\train\\\\label'\n",
    "lbl_val_output_dir = \"D:\\\\face_image_data\\\\valid\\\\label\"\n",
    "\n",
    "# train_data = img_data(img_train_output_dir)\n",
    "train_labels, train_box, train_landmarks = label_data(lbl_train_output_dir)\n",
    "\n",
    "# test_data = img_data(img_val_output_dir)\n",
    "test_labels, test_box, test_landmarks = label_data(lbl_val_output_dir)"
   ]
  },
  {
   "cell_type": "code",
   "execution_count": null,
   "id": "575f2e29",
   "metadata": {
    "ExecuteTime": {
     "start_time": "2023-10-10T11:33:58.232188Z",
     "end_time": "2023-10-10T11:33:58.259116Z"
    }
   },
   "outputs": [],
   "source": [
    "tr = pd.DataFrame(train_labels)\n",
    "ts = pd.DataFrame(test_labels)\n",
    "\n",
    "tr.columns = ['age']\n",
    "ts.columns = ['age']\n",
    "\n",
    "tr.age.nunique(), tr.age.unique(), ts.age.nunique(), ts.age.unique()"
   ]
  },
  {
   "cell_type": "code",
   "execution_count": null,
   "id": "5eec62ee",
   "metadata": {
    "ExecuteTime": {
     "start_time": "2023-10-10T11:34:00.725523Z",
     "end_time": "2023-10-10T11:34:00.768405Z"
    }
   },
   "outputs": [],
   "source": [
    "tr.age.value_counts(), ts.age.value_counts()"
   ]
  },
  {
   "cell_type": "code",
   "execution_count": null,
   "id": "566a0726",
   "metadata": {
    "ExecuteTime": {
     "start_time": "2023-10-10T11:34:01.414679Z",
     "end_time": "2023-10-10T11:34:02.280363Z"
    }
   },
   "outputs": [],
   "source": [
    "import matplotlib.pyplot as plt\n",
    "\n",
    "# 데이터프레임에서 값의 빈도수 계산\n",
    "tr_value_counts = tr.age.value_counts()\n",
    "ts_value_counts = ts.age.value_counts()\n",
    "\n",
    "# 막대 그래프 그리기\n",
    "plt.bar(tr_value_counts.index, tr_value_counts.values)\n",
    "\n",
    "# 그래프 제목 및 축 레이블 설정\n",
    "plt.title('Age Counts')\n",
    "plt.xlabel('Age')\n",
    "plt.ylabel('Frequency')\n",
    "\n",
    "# 그래프 표시\n",
    "plt.show()"
   ]
  },
  {
   "cell_type": "code",
   "execution_count": null,
   "id": "06fe684f",
   "metadata": {
    "ExecuteTime": {
     "start_time": "2023-10-10T11:34:03.070252Z",
     "end_time": "2023-10-10T11:34:03.566923Z"
    }
   },
   "outputs": [],
   "source": [
    "import matplotlib.pyplot as plt\n",
    "\n",
    "# 데이터프레임에서 값의 빈도수 계산\n",
    "tr_value_counts = tr.age.value_counts()\n",
    "ts_value_counts = ts.age.value_counts()\n",
    "ts_value_counts = ts_value_counts.sort_index()   # ts_value_counts를 age 값에 따라 정렬\n",
    "\n",
    "# 새로운 Figure 객체 생성\n",
    "fig, ax1 = plt.subplots(figsize=(12,6))\n",
    "\n",
    "# 막대 그래프 (첫 번째 축)\n",
    "ax1.bar(tr_value_counts.index, tr_value_counts.values, color='olive', alpha=0.7, label='Train Data')\n",
    "\n",
    "# 첫 번째 축 레이블 설정\n",
    "ax1.set_xlabel('Age')\n",
    "ax1.set_ylabel('Train data Frequency', color='olive')\n",
    "\n",
    "# 첫 번째 축 그래프의 타이틀 설정\n",
    "plt.title('Age Counts')\n",
    "\n",
    "# 두 번째 축 생성 (이중 축)\n",
    "ax2 = ax1.twinx()\n",
    "\n",
    "# 꺾은선 그래프 (두 번째 축)\n",
    "ax2.plot(ts_value_counts.index, ts_value_counts.values, color='g', marker='o', linestyle='-', label='Test Data')\n",
    "\n",
    "# 두 번째 축 레이블 설정\n",
    "ax2.set_ylabel('Test data Frequency', color='g')\n",
    "\n",
    "# 범례 추가\n",
    "ax1.legend(loc='upper left', bbox_to_anchor=(0.8, 1.0))\n",
    "ax2.legend(loc='upper left', bbox_to_anchor=(0.8, 0.9))\n",
    "\n",
    "# 그래프 표시\n",
    "plt.show()"
   ]
  },
  {
   "cell_type": "markdown",
   "id": "10250714",
   "metadata": {},
   "source": [
    "→ 데이터를 0~9 / 10~19 / 20~29 / 30~39 / 40~49 / 50대이상으로 분류"
   ]
  },
  {
   "cell_type": "markdown",
   "id": "98509914",
   "metadata": {},
   "source": [
    "### 데이터 연령대별로 나누어 저장하기"
   ]
  },
  {
   "cell_type": "code",
   "execution_count": null,
   "id": "645c141f",
   "metadata": {
    "ExecuteTime": {
     "start_time": "2023-10-10T11:35:43.954992Z",
     "end_time": "2023-10-10T11:35:43.985908Z"
    }
   },
   "outputs": [],
   "source": [
    "import os\n",
    "import shutil\n",
    "\n",
    "# 파일명을 파싱하여 클래스 레이블을 가져오기\n",
    "def parse_filename(filename):\n",
    "    split = filename.split('_')\n",
    "    classname = split[2]\n",
    "    return classname\n",
    "\n",
    "# 데이터 연령대별 폴더링\n",
    "def classify_dir(dir):\n",
    "    for root, _, files in os.walk(dir):\n",
    "        for file in files:\n",
    "            file_path = os.path.join(root, file)\n",
    "            \n",
    "            # 파일명 파싱하여 클래스 레이블 가져오기\n",
    "            label = parse_filename(file)  # parse_filename 함수 구현\n",
    "\n",
    "            # 클래스 레이블에 따라 다른 디렉토리로 복사\n",
    "            if int(label) < 10:\n",
    "                class_dir = os.path.join(dir, '00~09')\n",
    "                os.makedirs(class_dir, exist_ok=True)\n",
    "                shutil.copy(file_path, os.path.join(class_dir, file))\n",
    "            elif int(label) < 20:\n",
    "                class_dir = os.path.join(dir, '10~19')\n",
    "                os.makedirs(class_dir, exist_ok=True)\n",
    "                shutil.copy(file_path, os.path.join(class_dir, file))\n",
    "            elif int(label) < 30:   \n",
    "                class_dir = os.path.join(dir, '20~29')\n",
    "                os.makedirs(class_dir, exist_ok=True)\n",
    "                shutil.copy(file_path, os.path.join(class_dir, file))\n",
    "            elif int(label) < 40:\n",
    "                class_dir = os.path.join(dir, '30~39')\n",
    "                os.makedirs(class_dir, exist_ok=True)\n",
    "                shutil.copy(file_path, os.path.join(class_dir, file))\n",
    "            elif int(label) < 50:\n",
    "                class_dir = os.path.join(dir, '40~49')\n",
    "                os.makedirs(class_dir, exist_ok=True)\n",
    "                shutil.copy(file_path, os.path.join(class_dir, file))\n",
    "            elif int(label) < 60:\n",
    "                class_dir = os.path.join(dir, '40~49')\n",
    "                os.makedirs(class_dir, exist_ok=True)\n",
    "                shutil.copy(file_path, os.path.join(class_dir, file))\n",
    "            else:\n",
    "                class_dir = os.path.join(dir, '60~')\n",
    "                os.makedirs(class_dir, exist_ok=True)\n",
    "                shutil.copy(file_path, os.path.join(class_dir, file))\n",
    "\n",
    "# 각 폴더의 파일갯수\n",
    "def count_files(dir, type):\n",
    "    folder = ['00~09', '10~19', '20~29', '30~39', '40~49','50~59', '60~']\n",
    "    count = []\n",
    "    for i in folder:\n",
    "        folder_path = os.path.join(dir, i)\n",
    "        # 해당 폴더 내의 모든 파일 목록 가져오기\n",
    "        file_type = '.'+type\n",
    "        file_list = os.listdir(folder_path)\n",
    "        ct = 0\n",
    "        for file in file_list:\n",
    "            if file.endswith(file_type):\n",
    "                ct += 1\n",
    "        count.append(ct)\n",
    "    return sum(count)"
   ]
  },
  {
   "cell_type": "code",
   "execution_count": null,
   "id": "2617c3e4",
   "metadata": {
    "ExecuteTime": {
     "start_time": "2023-10-10T11:35:44.778792Z",
     "end_time": "2023-10-10T11:35:44.815691Z"
    }
   },
   "outputs": [],
   "source": [
    "img_train_class_dir = \"D:\\\\face_image_data\\\\train\\\\age_class\"\n",
    "lbl_train_class_dir = \"D:\\\\face_image_data\\\\train\\\\age_class\\\\label\"\n",
    "\n",
    "img_val_class_dir = \"D:\\\\face_image_data\\\\valid\\\\age_class\"\n",
    "lbl_val_class_dir = \"D:\\\\face_image_data\\\\valid\\\\age_class\\\\label\""
   ]
  },
  {
   "cell_type": "code",
   "execution_count": null,
   "id": "e37772fe",
   "metadata": {},
   "outputs": [],
   "source": [
    "classify_dir(img_train_class_dir)\n",
    "classify_dir(lbl_train_class_dir)\n",
    "\n",
    "count_files(img_train_class_dir, 'jpg'), count_files(lbl_train_class_dir, 'json')"
   ]
  },
  {
   "cell_type": "code",
   "execution_count": null,
   "id": "b8aa0eb8",
   "metadata": {},
   "outputs": [],
   "source": [
    "classify_dir(img_val_class_dir)\n",
    "classify_dir(lbl_val_class_dir)\n",
    "count_files(img_val_class_dir, 'jpg'), count_files(lbl_val_class_dir, 'json')"
   ]
  },
  {
   "cell_type": "markdown",
   "id": "60e1393d",
   "metadata": {},
   "source": [
    "### 누락된 파일 찾아 맞추기 (시행착오)"
   ]
  },
  {
   "cell_type": "code",
   "execution_count": null,
   "id": "bc4bc694",
   "metadata": {},
   "outputs": [],
   "source": [
    "def files_list(dir):\n",
    "    folder = ['00~09', '10~19', '20~29', '30~39', '40~49','50~']\n",
    "    lists = []\n",
    "    for i in folder:\n",
    "        folder_path = os.path.join(dir, i)\n",
    "        file_list = os.listdir(folder_path)\n",
    "        lists.append(file_list)\n",
    "    return lists"
   ]
  },
  {
   "cell_type": "code",
   "execution_count": null,
   "id": "89f06200",
   "metadata": {},
   "outputs": [],
   "source": [
    "for i in range(0, 6):\n",
    "    print(len(files_list(img_val_class_dir)[i]) == len(files_list(lbl_val_class_dir)[i]))"
   ]
  },
  {
   "cell_type": "code",
   "execution_count": null,
   "id": "cdf282bd",
   "metadata": {},
   "outputs": [],
   "source": [
    "files_list(img_val_class_dir)[0][6], files_list(lbl_val_class_dir)[0][6]"
   ]
  },
  {
   "cell_type": "code",
   "execution_count": null,
   "id": "4e5af0ac",
   "metadata": {},
   "outputs": [],
   "source": [
    "files_list(img_val_class_dir)[0][7], files_list(lbl_val_class_dir)[0][7]"
   ]
  },
  {
   "cell_type": "code",
   "execution_count": null,
   "id": "7debdd1f",
   "metadata": {},
   "outputs": [],
   "source": [
    "files_list(img_val_class_dir)[0][8], files_list(lbl_val_class_dir)[0][8]"
   ]
  },
  {
   "cell_type": "code",
   "execution_count": null,
   "id": "56ebe61e",
   "metadata": {},
   "outputs": [],
   "source": [
    "for i in range(len(files_list(img_val_class_dir)[0])):\n",
    "    print(files_list(img_val_class_dir)[0][i].split('.')[0] == files_list(lbl_val_class_dir)[0][i].split('.')[0])"
   ]
  }
 ],
 "metadata": {
  "kernelspec": {
   "display_name": "Python 3 (ipykernel)",
   "language": "python",
   "name": "python3"
  },
  "language_info": {
   "codemirror_mode": {
    "name": "ipython",
    "version": 3
   },
   "file_extension": ".py",
   "mimetype": "text/x-python",
   "name": "python",
   "nbconvert_exporter": "python",
   "pygments_lexer": "ipython3",
   "version": "3.9.13"
  }
 },
 "nbformat": 4,
 "nbformat_minor": 5
}
