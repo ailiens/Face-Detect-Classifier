{
 "cells": [
  {
   "cell_type": "code",
   "execution_count": 1,
   "metadata": {
    "collapsed": true,
    "ExecuteTime": {
     "start_time": "2023-10-12T14:29:27.451632Z",
     "end_time": "2023-10-12T14:29:30.410301Z"
    }
   },
   "outputs": [],
   "source": [
    "# 라이브러리 임포트\n",
    "# etc\n",
    "import os, sys\n",
    "import glob\n",
    "import csv\n",
    "import cv2\n",
    "import tqdm\n",
    "from typing import Tuple, List, Dict\n",
    "import numpy as np\n",
    "from PIL import Image\n",
    "import matplotlib.pyplot as plt\n",
    "# torch library\n",
    "import torch\n",
    "from torch import Tensor\n",
    "import torch.nn as nn\n",
    "import torch.nn.functional as F\n",
    "from torch.utils.data import Dataset, DataLoader\n",
    "from torch.utils.data.sampler import SubsetRandomSampler\n",
    "# torchvision library\n",
    "import torchvision\n",
    "from torchvision import transforms, models\n",
    "import torch.optim as optim"
   ]
  },
  {
   "cell_type": "code",
   "execution_count": null,
   "outputs": [],
   "source": [
    "# Dataset\n",
    "\n",
    "from torchvision import datasets, transforms\n",
    "from torch.utils.data import DataLoader, SubsetRandomSampler\n",
    "import numpy as np\n",
    "\n",
    "def get_label_from_filename(filename):\n",
    "    age_str = filename.split('_')[2]\n",
    "    age = int(age_str)\n",
    "    if age <= 9:\n",
    "        return '0'\n",
    "    elif 10 <= age <= 19:\n",
    "        return '1'\n",
    "    elif 20 <= age <= 29:\n",
    "        return '2'\n",
    "    elif 30 <= age <= 39:\n",
    "        return '3'\n",
    "    elif 40 <= age <= 49:\n",
    "        return '4'\n",
    "    else:\n",
    "      return '5'\n",
    "\n",
    "\n",
    "train_transform = transforms.Compose([\n",
    "    transforms.RandomHorizontalFlip(),\n",
    "    transforms.ToTensor(),\n",
    "    transforms.Normalize((0.5, 0.5, 0.5), (0.5, 0.5, 0.5))\n",
    "])\n",
    "val_transform = transforms.Compose([\n",
    "    transforms.ToTensor(),\n",
    "    transforms.Normalize((0.5, 0.5, 0.5), (0.5, 0.5, 0.5))\n",
    "])\n",
    "\n",
    "# 데이터 로딩\n",
    "train_dataset = datasets.ImageFolder(root='/content/drive/MyDrive/Project/image_data/train', transform=train_transform)\n",
    "val_dataset = datasets.ImageFolder(root='/content/drive/MyDrive/Project/image_data/valid', transform=val_transform)\n",
    "test_dataset = datasets.ImageFolder(root='/content/drive/MyDrive/Project/image_data/test', transform=val_transform)\n",
    "\n",
    "# 배치 사이즈와 train:validation 비율 정의\n",
    "batch_size = 8\n",
    "# batch_size = 16\n",
    "\n",
    "# 데이터로더 정의\n",
    "train_loader = DataLoader(train_dataset, batch_size=batch_size, shuffle=True, num_workers=2)\n",
    "val_loader = DataLoader(val_dataset, batch_size=batch_size, shuffle=False, num_workers=2)\n",
    "test_loader = DataLoader(test_dataset, batch_size=batch_size, shuffle=False, num_workers=2)\n",
    "\n",
    "# 클래스 정의\n",
    "classes = ('0', '1', '2', '3', '4', '5')"
   ],
   "metadata": {
    "collapsed": false
   }
  },
  {
   "cell_type": "code",
   "execution_count": null,
   "outputs": [],
   "source": [
    "train_dataset"
   ],
   "metadata": {
    "collapsed": false
   }
  },
  {
   "cell_type": "markdown",
   "source": [],
   "metadata": {
    "collapsed": false
   }
  },
  {
   "cell_type": "code",
   "execution_count": null,
   "outputs": [],
   "source": [
    "# 이미지 데이터 시각화\n",
    "def imshow(img):\n",
    "    img = img / 2 + 0.5     # unnormalize\n",
    "    npimg = img.numpy()\n",
    "    plt.imshow(np.transpose(npimg, (1, 2, 0)))\n",
    "    plt.show()\n",
    "\n",
    "# 학습 이미지 얻기\n",
    "dataiter = iter(train_loader)\n",
    "images, labels = next(dataiter)\n",
    "# 이미지 출력\n",
    "imshow(torchvision.utils.make_grid(images))\n",
    "# 라벨 프린트\n",
    "print(' '.join(f'{classes[labels[j]]:5s}' for j in range(batch_size)))"
   ],
   "metadata": {
    "collapsed": false
   }
  },
  {
   "cell_type": "code",
   "execution_count": null,
   "outputs": [],
   "source": [
    "from torchvision import transforms\n",
    "from torch.utils.data import Dataset\n",
    "from PIL import Image\n",
    "import os\n",
    "import numpy as np\n",
    "from typing import Tuple, List\n",
    "from torch import Tensor\n",
    "\n",
    "# 커스텀 데이터셋 클래스\n",
    "class CUSTOMDataset(Dataset):\n",
    "    def __init__(self, root: str, transforms: transforms = None):\n",
    "        self.root = root\n",
    "        self.transforms = transforms\n",
    "        self.images = []\n",
    "        self.labels = []\n",
    "\n",
    "        for folder in os.listdir(self.root):\n",
    "            if folder == '.DS_Store':\n",
    "                continue\n",
    "\n",
    "            folder_path = os.path.join(self.root, folder)\n",
    "            for filename in os.listdir(folder_path):\n",
    "                self.images.append(os.path.join(folder_path, filename))\n",
    "\n",
    "                # 파일명에서 라벨 부분 추출\n",
    "                label_str = filename.split('_')[2] # 파일명에서 라벨 부분(예: '01') 추출\n",
    "                label = int(label_str) // 10 if int(label_str) < 60 else 6\n",
    "                self.labels.append(label)\n",
    "\n",
    "    def __len__(self):\n",
    "        return len(self.labels)\n",
    "\n",
    "    def __getitem__(self, index: int) -> Tuple[Tensor]:\n",
    "        image_path = self.images[index]\n",
    "        image = Image.open(image_path).convert('RGB')\n",
    "        if self.transforms:\n",
    "            image = self.transforms(image)\n",
    "\n",
    "        label = self.labels[index]\n",
    "        return image, label"
   ],
   "metadata": {
    "collapsed": false
   }
  },
  {
   "cell_type": "code",
   "execution_count": null,
   "outputs": [],
   "source": [
    "# 커스텀 데이터셋 & 로더\n",
    "custom_dataset = CUSTOMDataset('/content/drive/MyDrive/Project/image_data/test', transforms = val_transform)\n",
    "custom_loader = DataLoader(\n",
    "    custom_dataset, batch_size=8, shuffle=False, num_workers=2)"
   ],
   "metadata": {
    "collapsed": false
   }
  },
  {
   "cell_type": "code",
   "execution_count": null,
   "outputs": [],
   "source": [
    "# 디바이스 체크 & 할당\n",
    "device = torch.device('cuda:0' if torch.cuda.is_available() else 'cpu')\n",
    "print(device)"
   ],
   "metadata": {
    "collapsed": false
   }
  },
  {
   "cell_type": "code",
   "execution_count": null,
   "outputs": [],
   "source": [
    "model = torch.hub.load('pytorch/vision:v0.10.0', 'resnet101', pretrained=True)\n",
    "model = model.to(device)"
   ],
   "metadata": {
    "collapsed": false
   }
  },
  {
   "cell_type": "code",
   "execution_count": null,
   "outputs": [],
   "source": [
    "criterion = nn.CrossEntropyLoss()\n",
    "optimizer = optim.SGD(model.parameters(), lr=0.001, momentum=0.9)"
   ],
   "metadata": {
    "collapsed": false
   }
  },
  {
   "cell_type": "code",
   "execution_count": null,
   "outputs": [],
   "source": [
    "def train(epoch):\n",
    "  train_loss = 0.0\n",
    "  model.train()\n",
    "  for i, data in enumerate(tqdm.tqdm(train_loader), 0):\n",
    "      # 입력 데이터 가져오기 data: [inputs, labels]\n",
    "      inputs, labels = data[0].to(device), data[1].to(device)\n",
    "\n",
    "      # parameter gradients를 제로화\n",
    "      optimizer.zero_grad()\n",
    "\n",
    "      # 입력 이미지에 대한 출력 생성\n",
    "      outputs = model(inputs)\n",
    "\n",
    "      # 손실함수 계산 밎 업데이트\n",
    "      loss = criterion(outputs, labels)\n",
    "      loss.backward()\n",
    "      optimizer.step()\n",
    "      train_loss += loss.item()\n",
    "\n",
    "  return train_loss"
   ],
   "metadata": {
    "collapsed": false
   }
  },
  {
   "cell_type": "code",
   "execution_count": null,
   "outputs": [],
   "source": [
    "def val():\n",
    "  val_loss = 0.0\n",
    "  val_accuracy = 0.0\n",
    "  with torch.no_grad():\n",
    "    # 모델 평가 모드 설정\n",
    "    model.eval()\n",
    "    for i, data in enumerate(tqdm.tqdm(val_loader), 0):\n",
    "      # 입력 데이터 가져오기 data: [inputs, labels]\n",
    "      inputs, labels = data[0].to(device), data[1].to(device)\n",
    "\n",
    "      # 입력 이미지에 대한 출력 생성\n",
    "      outputs = model(inputs)\n",
    "\n",
    "      # 손실함수 계산\n",
    "      loss = criterion(outputs, labels)\n",
    "      val_loss += loss.item()\n",
    "\n",
    "      # 예측 라벨\n",
    "      _, predicted = torch.max(outputs, 1)\n",
    "\n",
    "      # accuracy 계산\n",
    "      val_accuracy += (predicted == labels).sum().item()\n",
    "\n",
    "  return val_loss, val_accuracy"
   ],
   "metadata": {
    "collapsed": false
   }
  },
  {
   "cell_type": "code",
   "execution_count": null,
   "outputs": [],
   "source": [
    "def test(test_loader):\n",
    "    correct = 0\n",
    "    total = 0\n",
    "    correct_class = {classname: 0 for classname in classes}\n",
    "    total_class = {classname: 0 for classname in classes}\n",
    "    model.eval()\n",
    "    with torch.no_grad():\n",
    "        for data in test_loader:\n",
    "            inputs, labels = data[0].to(device), data[1].to(device)\n",
    "            # 입력 이미지에 대한 출력 생성\n",
    "            outputs = model(inputs)\n",
    "            # 예측 라벨\n",
    "            _, predicted = torch.max(outputs.data, 1)\n",
    "            # 전체 정확도 계산\n",
    "            total += labels.size(0)\n",
    "            correct += (predicted == labels).sum().item()\n",
    "            # 클래스 별 정확도 계산\n",
    "            for label, prediction in zip(labels, predicted):\n",
    "                if label == prediction:\n",
    "                    correct_class[classes[label]] += 1\n",
    "                total_class[classes[label]] += 1\n",
    "    # 전체 정확도 출력\n",
    "    print(f'Accuracy of the network on the 10000 test images: {100 * correct // total} %')\n",
    "    # 클래스 별 정확도 출력\n",
    "    for classname, correct_count in correct_class.items():\n",
    "        if total_class[classname] == 0:\n",
    "          continue\n",
    "        accuracy = 100 * float(correct_count) / total_class[classname]\n",
    "        print(f'Accuracy for class: {classname:5s} is {accuracy:.1f} %')"
   ],
   "metadata": {
    "collapsed": false
   }
  },
  {
   "cell_type": "code",
   "execution_count": null,
   "outputs": [],
   "source": [
    "# 학습 에포크 설정\n",
    "train_epochs = 10\n",
    "best_acc = 0.0\n",
    "# 모델 저장 경로 정의\n",
    "model_path = '/content/drive/MyDrive/Project/models/6class_resnet101.pth'\n",
    "for epoch in range(train_epochs):\n",
    "  # 학습 메소드 실행\n",
    "  train_loss = train(epoch)\n",
    "  print(f'[{epoch + 1}] loss: {train_loss / len(train_loader):.3f}')\n",
    "  # 검증 메소드 실행\n",
    "  val_loss, val_acc = val()\n",
    "  vaild_acc = val_acc / (len(val_loader)*batch_size)\n",
    "  print(f'[{epoch + 1}] loss: {val_loss / len(val_loader):.3f} acc: {vaild_acc:.3f}')\n",
    "  # 정확도가 기존 베스트를 갱신할 경우 모델 저장\n",
    "  if vaild_acc >= best_acc:\n",
    "    best_acc = vaild_acc\n",
    "    torch.save(model.state_dict(), model_path)\n",
    "print('Finished Training')"
   ],
   "metadata": {
    "collapsed": false
   }
  },
  {
   "cell_type": "code",
   "execution_count": null,
   "outputs": [],
   "source": [
    "# 안됨\n",
    "model_path = '/content/7class_resnet.pth'\n",
    "# 모델 가중치 로드\n",
    "model.load_state_dict(torch.load(model_path))"
   ],
   "metadata": {
    "collapsed": false
   }
  },
  {
   "cell_type": "code",
   "execution_count": null,
   "outputs": [],
   "source": [
    "# 테스트 메소드 실행\n",
    "test(custom_loader)"
   ],
   "metadata": {
    "collapsed": false
   }
  },
  {
   "cell_type": "code",
   "execution_count": null,
   "outputs": [],
   "source": [
    "model_path = '/content/cifar_resnet.pth'\n",
    "# 모델 가중치 로드\n",
    "model.load_state_dict(torch.load(model_path))\n",
    "# 테스트 메소드 실행\n",
    "test(test_loader)"
   ],
   "metadata": {
    "collapsed": false
   }
  }
 ],
 "metadata": {
  "kernelspec": {
   "display_name": "Python 3",
   "language": "python",
   "name": "python3"
  },
  "language_info": {
   "codemirror_mode": {
    "name": "ipython",
    "version": 2
   },
   "file_extension": ".py",
   "mimetype": "text/x-python",
   "name": "python",
   "nbconvert_exporter": "python",
   "pygments_lexer": "ipython2",
   "version": "2.7.6"
  }
 },
 "nbformat": 4,
 "nbformat_minor": 0
}
