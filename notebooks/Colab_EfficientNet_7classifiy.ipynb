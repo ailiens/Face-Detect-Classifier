{
  "nbformat": 4,
  "nbformat_minor": 0,
  "metadata": {
    "colab": {
      "provenance": [],
      "gpuType": "T4"
    },
    "kernelspec": {
      "name": "python3",
      "display_name": "Python 3"
    },
    "language_info": {
      "name": "python"
    },
    "accelerator": "GPU",
    "widgets": {
      "application/vnd.jupyter.widget-state+json": {
        "ad1d3b0bda6f4685820bc18ffb28f367": {
          "model_module": "@jupyter-widgets/controls",
          "model_name": "HBoxModel",
          "model_module_version": "1.5.0",
          "state": {
            "_dom_classes": [],
            "_model_module": "@jupyter-widgets/controls",
            "_model_module_version": "1.5.0",
            "_model_name": "HBoxModel",
            "_view_count": null,
            "_view_module": "@jupyter-widgets/controls",
            "_view_module_version": "1.5.0",
            "_view_name": "HBoxView",
            "box_style": "",
            "children": [
              "IPY_MODEL_ff4d409c36fb4aad95be67843adf8f9d",
              "IPY_MODEL_5add6b365cda4f788ea9bb896f759745",
              "IPY_MODEL_a4e4f7e85b604df79ccd9a44e837a11b"
            ],
            "layout": "IPY_MODEL_ab068bf74f4d400e93d75f72ec0c52dd"
          }
        },
        "ff4d409c36fb4aad95be67843adf8f9d": {
          "model_module": "@jupyter-widgets/controls",
          "model_name": "HTMLModel",
          "model_module_version": "1.5.0",
          "state": {
            "_dom_classes": [],
            "_model_module": "@jupyter-widgets/controls",
            "_model_module_version": "1.5.0",
            "_model_name": "HTMLModel",
            "_view_count": null,
            "_view_module": "@jupyter-widgets/controls",
            "_view_module_version": "1.5.0",
            "_view_name": "HTMLView",
            "description": "",
            "description_tooltip": null,
            "layout": "IPY_MODEL_e196363c14894b66ab5bb2f6229b2170",
            "placeholder": "​",
            "style": "IPY_MODEL_6b496a560db74ce5bb3d63dcb7976c4f",
            "value": "model.safetensors: 100%"
          }
        },
        "5add6b365cda4f788ea9bb896f759745": {
          "model_module": "@jupyter-widgets/controls",
          "model_name": "FloatProgressModel",
          "model_module_version": "1.5.0",
          "state": {
            "_dom_classes": [],
            "_model_module": "@jupyter-widgets/controls",
            "_model_module_version": "1.5.0",
            "_model_name": "FloatProgressModel",
            "_view_count": null,
            "_view_module": "@jupyter-widgets/controls",
            "_view_module_version": "1.5.0",
            "_view_name": "ProgressView",
            "bar_style": "success",
            "description": "",
            "description_tooltip": null,
            "layout": "IPY_MODEL_ce30b83501c146bdb459352ee4047663",
            "max": 21355344,
            "min": 0,
            "orientation": "horizontal",
            "style": "IPY_MODEL_b352fc23a79641d593a4bf31438c2210",
            "value": 21355344
          }
        },
        "a4e4f7e85b604df79ccd9a44e837a11b": {
          "model_module": "@jupyter-widgets/controls",
          "model_name": "HTMLModel",
          "model_module_version": "1.5.0",
          "state": {
            "_dom_classes": [],
            "_model_module": "@jupyter-widgets/controls",
            "_model_module_version": "1.5.0",
            "_model_name": "HTMLModel",
            "_view_count": null,
            "_view_module": "@jupyter-widgets/controls",
            "_view_module_version": "1.5.0",
            "_view_name": "HTMLView",
            "description": "",
            "description_tooltip": null,
            "layout": "IPY_MODEL_645d4bb97f654b719a66899c5b4ed11e",
            "placeholder": "​",
            "style": "IPY_MODEL_1a326545a93941b9be03c6d225898349",
            "value": " 21.4M/21.4M [00:00&lt;00:00, 49.9MB/s]"
          }
        },
        "ab068bf74f4d400e93d75f72ec0c52dd": {
          "model_module": "@jupyter-widgets/base",
          "model_name": "LayoutModel",
          "model_module_version": "1.2.0",
          "state": {
            "_model_module": "@jupyter-widgets/base",
            "_model_module_version": "1.2.0",
            "_model_name": "LayoutModel",
            "_view_count": null,
            "_view_module": "@jupyter-widgets/base",
            "_view_module_version": "1.2.0",
            "_view_name": "LayoutView",
            "align_content": null,
            "align_items": null,
            "align_self": null,
            "border": null,
            "bottom": null,
            "display": null,
            "flex": null,
            "flex_flow": null,
            "grid_area": null,
            "grid_auto_columns": null,
            "grid_auto_flow": null,
            "grid_auto_rows": null,
            "grid_column": null,
            "grid_gap": null,
            "grid_row": null,
            "grid_template_areas": null,
            "grid_template_columns": null,
            "grid_template_rows": null,
            "height": null,
            "justify_content": null,
            "justify_items": null,
            "left": null,
            "margin": null,
            "max_height": null,
            "max_width": null,
            "min_height": null,
            "min_width": null,
            "object_fit": null,
            "object_position": null,
            "order": null,
            "overflow": null,
            "overflow_x": null,
            "overflow_y": null,
            "padding": null,
            "right": null,
            "top": null,
            "visibility": null,
            "width": null
          }
        },
        "e196363c14894b66ab5bb2f6229b2170": {
          "model_module": "@jupyter-widgets/base",
          "model_name": "LayoutModel",
          "model_module_version": "1.2.0",
          "state": {
            "_model_module": "@jupyter-widgets/base",
            "_model_module_version": "1.2.0",
            "_model_name": "LayoutModel",
            "_view_count": null,
            "_view_module": "@jupyter-widgets/base",
            "_view_module_version": "1.2.0",
            "_view_name": "LayoutView",
            "align_content": null,
            "align_items": null,
            "align_self": null,
            "border": null,
            "bottom": null,
            "display": null,
            "flex": null,
            "flex_flow": null,
            "grid_area": null,
            "grid_auto_columns": null,
            "grid_auto_flow": null,
            "grid_auto_rows": null,
            "grid_column": null,
            "grid_gap": null,
            "grid_row": null,
            "grid_template_areas": null,
            "grid_template_columns": null,
            "grid_template_rows": null,
            "height": null,
            "justify_content": null,
            "justify_items": null,
            "left": null,
            "margin": null,
            "max_height": null,
            "max_width": null,
            "min_height": null,
            "min_width": null,
            "object_fit": null,
            "object_position": null,
            "order": null,
            "overflow": null,
            "overflow_x": null,
            "overflow_y": null,
            "padding": null,
            "right": null,
            "top": null,
            "visibility": null,
            "width": null
          }
        },
        "6b496a560db74ce5bb3d63dcb7976c4f": {
          "model_module": "@jupyter-widgets/controls",
          "model_name": "DescriptionStyleModel",
          "model_module_version": "1.5.0",
          "state": {
            "_model_module": "@jupyter-widgets/controls",
            "_model_module_version": "1.5.0",
            "_model_name": "DescriptionStyleModel",
            "_view_count": null,
            "_view_module": "@jupyter-widgets/base",
            "_view_module_version": "1.2.0",
            "_view_name": "StyleView",
            "description_width": ""
          }
        },
        "ce30b83501c146bdb459352ee4047663": {
          "model_module": "@jupyter-widgets/base",
          "model_name": "LayoutModel",
          "model_module_version": "1.2.0",
          "state": {
            "_model_module": "@jupyter-widgets/base",
            "_model_module_version": "1.2.0",
            "_model_name": "LayoutModel",
            "_view_count": null,
            "_view_module": "@jupyter-widgets/base",
            "_view_module_version": "1.2.0",
            "_view_name": "LayoutView",
            "align_content": null,
            "align_items": null,
            "align_self": null,
            "border": null,
            "bottom": null,
            "display": null,
            "flex": null,
            "flex_flow": null,
            "grid_area": null,
            "grid_auto_columns": null,
            "grid_auto_flow": null,
            "grid_auto_rows": null,
            "grid_column": null,
            "grid_gap": null,
            "grid_row": null,
            "grid_template_areas": null,
            "grid_template_columns": null,
            "grid_template_rows": null,
            "height": null,
            "justify_content": null,
            "justify_items": null,
            "left": null,
            "margin": null,
            "max_height": null,
            "max_width": null,
            "min_height": null,
            "min_width": null,
            "object_fit": null,
            "object_position": null,
            "order": null,
            "overflow": null,
            "overflow_x": null,
            "overflow_y": null,
            "padding": null,
            "right": null,
            "top": null,
            "visibility": null,
            "width": null
          }
        },
        "b352fc23a79641d593a4bf31438c2210": {
          "model_module": "@jupyter-widgets/controls",
          "model_name": "ProgressStyleModel",
          "model_module_version": "1.5.0",
          "state": {
            "_model_module": "@jupyter-widgets/controls",
            "_model_module_version": "1.5.0",
            "_model_name": "ProgressStyleModel",
            "_view_count": null,
            "_view_module": "@jupyter-widgets/base",
            "_view_module_version": "1.2.0",
            "_view_name": "StyleView",
            "bar_color": null,
            "description_width": ""
          }
        },
        "645d4bb97f654b719a66899c5b4ed11e": {
          "model_module": "@jupyter-widgets/base",
          "model_name": "LayoutModel",
          "model_module_version": "1.2.0",
          "state": {
            "_model_module": "@jupyter-widgets/base",
            "_model_module_version": "1.2.0",
            "_model_name": "LayoutModel",
            "_view_count": null,
            "_view_module": "@jupyter-widgets/base",
            "_view_module_version": "1.2.0",
            "_view_name": "LayoutView",
            "align_content": null,
            "align_items": null,
            "align_self": null,
            "border": null,
            "bottom": null,
            "display": null,
            "flex": null,
            "flex_flow": null,
            "grid_area": null,
            "grid_auto_columns": null,
            "grid_auto_flow": null,
            "grid_auto_rows": null,
            "grid_column": null,
            "grid_gap": null,
            "grid_row": null,
            "grid_template_areas": null,
            "grid_template_columns": null,
            "grid_template_rows": null,
            "height": null,
            "justify_content": null,
            "justify_items": null,
            "left": null,
            "margin": null,
            "max_height": null,
            "max_width": null,
            "min_height": null,
            "min_width": null,
            "object_fit": null,
            "object_position": null,
            "order": null,
            "overflow": null,
            "overflow_x": null,
            "overflow_y": null,
            "padding": null,
            "right": null,
            "top": null,
            "visibility": null,
            "width": null
          }
        },
        "1a326545a93941b9be03c6d225898349": {
          "model_module": "@jupyter-widgets/controls",
          "model_name": "DescriptionStyleModel",
          "model_module_version": "1.5.0",
          "state": {
            "_model_module": "@jupyter-widgets/controls",
            "_model_module_version": "1.5.0",
            "_model_name": "DescriptionStyleModel",
            "_view_count": null,
            "_view_module": "@jupyter-widgets/base",
            "_view_module_version": "1.2.0",
            "_view_name": "StyleView",
            "description_width": ""
          }
        }
      }
    }
  },
  "cells": [
    {
      "cell_type": "code",
      "source": [
        "from google.colab import drive\n",
        "drive.mount('/content/drive')"
      ],
      "metadata": {
        "colab": {
          "base_uri": "https://localhost:8080/"
        },
        "id": "1BtI9DhNImbj",
        "outputId": "a109adaa-e7ba-48de-b42e-992edaa1cbde"
      },
      "execution_count": 1,
      "outputs": [
        {
          "output_type": "stream",
          "name": "stdout",
          "text": [
            "Mounted at /content/drive\n"
          ]
        }
      ]
    },
    {
      "cell_type": "code",
      "source": [
        "import zipfile\n",
        "import os\n",
        "\n",
        "def unzip_single_file(zip_path, output_folder):\n",
        "    print(f\"Extracting {zip_path} to {output_folder}...\")\n",
        "    try:\n",
        "        with zipfile.ZipFile(zip_path, 'r') as zip_ref:\n",
        "            zip_ref.extractall(output_folder)\n",
        "        print(\"Extraction complete.\")\n",
        "    except zipfile.BadZipFile:\n",
        "        print(f\"Bad ZIP file: {zip_path}\")\n",
        "\n",
        "# 경로 설정\n",
        "train_image_root = \"/content/drive/MyDrive/Project/image_data.zip\"\n",
        "train_output_dir = \"/content/drive/MyDrive/Project/image_data\"\n",
        "\n",
        "# 폴더 존재 확인\n",
        "if not os.path.exists(train_output_dir):\n",
        "    os.makedirs(train_output_dir)\n",
        "\n",
        "# ZIP 파일 압축 해제\n",
        "unzip_single_file(train_image_root, train_output_dir)"
      ],
      "metadata": {
        "colab": {
          "base_uri": "https://localhost:8080/"
        },
        "id": "dzBxRMyzIuiq",
        "outputId": "41f941c1-b243-4451-909f-3ee773500f69"
      },
      "execution_count": 2,
      "outputs": [
        {
          "output_type": "stream",
          "name": "stdout",
          "text": [
            "Extracting /content/drive/MyDrive/Project/image_data.zip to /content/drive/MyDrive/Project/image_data...\n",
            "Extraction complete.\n"
          ]
        }
      ]
    },
    {
      "cell_type": "code",
      "execution_count": 3,
      "metadata": {
        "id": "2IkIHoMwIhj9"
      },
      "outputs": [],
      "source": [
        "import os\n",
        "import numpy as np\n",
        "from glob import glob\n",
        "\n",
        "# 기존과 동일하게 seed 설정\n",
        "np.random.seed(724)\n",
        "\n",
        "# 수정해야 할 디렉토리 경로\n",
        "dir_main = \"/content/drive/MyDrive/Project/image_data\"  # 실제 경로로 수정해주세요.\n",
        "\n",
        "# 각 데이터셋에 대한 디렉토리 정의\n",
        "dir_data_train = os.path.join(dir_main, 'train')\n",
        "dir_data_valid = os.path.join(dir_main, 'valid')\n",
        "dir_data_test = os.path.join(dir_main, 'test')\n",
        "\n",
        "# 클래스 정보 수집\n",
        "classes = glob(f\"{dir_data_train}/*\")  # 클래스는 train 폴더 내부에 정의되어 있다고 가정\n",
        "class_info = {idx: os.path.basename(cls) for idx, cls in enumerate(classes)}\n",
        "\n",
        "# 이미지 파일 경로 수집\n",
        "img_files_train = glob(f\"{dir_data_train}/*/*.jpg\")\n",
        "img_files_valid = glob(f\"{dir_data_valid}/*/*.jpg\")\n",
        "img_files_test = glob(f\"{dir_data_test}/*/*.jpg\")\n",
        "\n",
        "# NumPy 배열로 데이터 생성\n",
        "dataset_train = np.array([[img_file, img_file.split(\"/\")[-2]] for img_file in img_files_train])\n",
        "dataset_valid = np.array([[img_file, img_file.split(\"/\")[-2]] for img_file in img_files_valid])\n",
        "dataset_test = np.array([[img_file, img_file.split(\"/\")[-2]] for img_file in img_files_test])\n",
        "\n",
        "# x, y 분리\n",
        "x_train, y_train = dataset_train[:, 0], dataset_train[:, 1]\n",
        "x_valid, y_valid = dataset_valid[:, 0], dataset_valid[:, 1]\n",
        "x_test, y_test = dataset_test[:, 0], dataset_test[:, 1]"
      ]
    },
    {
      "cell_type": "code",
      "source": [
        "print(f\"Classes: {classes}\")\n",
        "print(f\"Train Files: {len(img_files_train)}\")\n",
        "print(f\"Valid Files: {len(img_files_valid)}\")\n",
        "print(f\"Test Files: {len(img_files_test)}\")"
      ],
      "metadata": {
        "colab": {
          "base_uri": "https://localhost:8080/"
        },
        "id": "AySJSJHgH_bM",
        "outputId": "de25f78c-9b5f-4ef8-fcf7-cbc63d59fa3f"
      },
      "execution_count": 4,
      "outputs": [
        {
          "output_type": "stream",
          "name": "stdout",
          "text": [
            "Classes: ['/content/drive/MyDrive/Project/image_data/train/0', '/content/drive/MyDrive/Project/image_data/train/1', '/content/drive/MyDrive/Project/image_data/train/2', '/content/drive/MyDrive/Project/image_data/train/3', '/content/drive/MyDrive/Project/image_data/train/4', '/content/drive/MyDrive/Project/image_data/train/5', '/content/drive/MyDrive/Project/image_data/train/6']\n",
            "Train Files: 32120\n",
            "Valid Files: 8030\n",
            "Test Files: 3124\n"
          ]
        }
      ]
    },
    {
      "cell_type": "code",
      "source": [
        "def create_symlink(x_target, name='train'):\n",
        "    for x in x_target:\n",
        "        src = os.path.abspath(x)\n",
        "        dst = src.replace(\"raw\", name)\n",
        "        os.makedirs(os.path.dirname(dst), exist_ok=True)\n",
        "        if not os.path.exists(dst):\n",
        "            os.symlink(src, dst)\n",
        "\n",
        "create_symlink(x_train, \"train\")\n",
        "create_symlink(x_test, \"test\")\n",
        "create_symlink(x_valid, \"val\")\n",
        "\n",
        "def get_numbers(ys, cls=None):\n",
        "    cls_cnt = {}\n",
        "    for y in ys:\n",
        "        if y not in cls_cnt.keys():\n",
        "            cls_cnt[y]=0\n",
        "        cls_cnt[y]+=1\n",
        "    if cls is None:\n",
        "        return cls_cnt\n",
        "    return cls_cnt[cls]\n",
        "\n",
        "print(f\"Class\\t\\tTrain\\tVal\\tTest\\n\")\n",
        "for cls in class_info.values():\n",
        "    print(f\"{cls:10}\\t{get_numbers(y_train, cls)}\\t{get_numbers(y_valid, cls)}\\t{get_numbers(y_test, cls)}\")"
      ],
      "metadata": {
        "colab": {
          "base_uri": "https://localhost:8080/"
        },
        "id": "Y_BL8txTL4Vh",
        "outputId": "14281dbf-bf10-49d7-b2c6-a120a3f18470"
      },
      "execution_count": 5,
      "outputs": [
        {
          "output_type": "stream",
          "name": "stdout",
          "text": [
            "Class\t\tTrain\tVal\tTest\n",
            "\n",
            "0         \t7186\t1388\t627\n",
            "1         \t9787\t2465\t845\n",
            "2         \t6463\t1765\t736\n",
            "3         \t4245\t1114\t435\n",
            "4         \t2151\t654\t354\n",
            "5         \t2108\t580\t94\n",
            "6         \t180\t64\t33\n"
          ]
        }
      ]
    },
    {
      "cell_type": "code",
      "source": [
        "import os\n",
        "import torch\n",
        "import numpy as np\n",
        "from PIL import Image\n",
        "from glob import glob\n",
        "from torch.utils.data import Dataset\n",
        "\n",
        "class AgeClass(Dataset):\n",
        "    def __init__(self, dir_dataset, tr):\n",
        "        self.dir_dataset = os.path.abspath(dir_dataset)\n",
        "        self.filelist = glob(self.dir_dataset + '/*/*.jpg')\n",
        "        assert len(self.filelist) != 0, f\"{self.dir_dataset + '/*/*.jpg'} is empty\"\n",
        "        self.classes = ['0', '1', '2', '3', '4', '5', '6']  # 클래스 이름을 숫자로 변경\n",
        "        self.tr = tr\n",
        "\n",
        "    def get_image(self, filename):\n",
        "        img = Image.open(filename)\n",
        "        img = self.tr(img)\n",
        "        return img\n",
        "\n",
        "    def get_label(self, filename):\n",
        "        label = filename.split(\"/\")[-2]  # 라벨을 디렉터리 이름에서 추출\n",
        "        label = int(label)  # 라벨을 정수로 변환\n",
        "        return torch.tensor(label, dtype=torch.long)\n",
        "\n",
        "    def __getitem__(self, idx):\n",
        "        filename = self.filelist[idx]\n",
        "        img = self.get_image(filename)\n",
        "        label = self.get_label(filename)\n",
        "        return img, label\n",
        "\n",
        "    def __len__(self):\n",
        "        return len(self.filelist)\n",
        "\n",
        "class DeviceDataLoader():\n",
        "    def __init__(self, dl):\n",
        "        self.dl = dl\n",
        "        self.device = torch.device('cuda') if torch.cuda.is_available() else torch.device('cpu')\n",
        "\n",
        "    def to_device(self, data):\n",
        "        if isinstance(data, (list, tuple)):\n",
        "            return [self.to_device(x) for x in data]\n",
        "        return data.to(self.device, non_blocking=True)\n",
        "\n",
        "    def __iter__(self):\n",
        "        for b in self.dl:\n",
        "            yield self.to_device(b)\n",
        "\n",
        "    def __len__(self):\n",
        "        return len(self.dl)"
      ],
      "metadata": {
        "id": "TpzvY7ISL3Yh"
      },
      "execution_count": 6,
      "outputs": []
    },
    {
      "cell_type": "code",
      "source": [
        "## 라벨 확인\n",
        "# from torchvision import transforms\n",
        "\n",
        "# # transform 정의\n",
        "# transform = transforms.Compose([\n",
        "#     transforms.Resize((224, 224)),\n",
        "#     transforms.ToTensor(),\n",
        "# ])\n",
        "\n",
        "# # AgeClass 인스턴스 생성\n",
        "# dataset = AgeClass(\"/content/drive/MyDrive/Project/image_data/test\", tr=transform)\n",
        "\n",
        "# # 첫 번째 항목의 라벨 확인\n",
        "# _, label = dataset[3100]\n",
        "# print(label)"
      ],
      "metadata": {
        "colab": {
          "base_uri": "https://localhost:8080/"
        },
        "id": "vjkbaAexMvZq",
        "outputId": "ab4dd308-f478-42d5-e8fa-9ce4a3ff8271"
      },
      "execution_count": 14,
      "outputs": [
        {
          "output_type": "stream",
          "name": "stdout",
          "text": [
            "tensor(6)\n"
          ]
        }
      ]
    },
    {
      "cell_type": "code",
      "source": [
        "from torch.utils.data import DataLoader\n",
        "import torchvision.transforms as T\n",
        "\n",
        "# print(model.default_cfg['mean']) # 'mean': (0.485, 0.456, 0.406)\n",
        "# print(model.default_cfg['std']) # 'std': (0.229, 0.224, 0.225)\n",
        "normalize = T.Normalize(\n",
        "    mean=[0.485, 0.456, 0.406],\n",
        "    std=[0.229, 0.224, 0.225]\n",
        ")\n",
        "\n",
        "'''\n",
        "Resize: 이미지 크기를 조정합니다.\n",
        "CenterCrop: 이미지의 중앙 부분을 잘라냅니다.\n",
        "RandomCrop: 이미지에서 무작위로 부분을 잘라냅니다.\n",
        "RandomHorizontalFlip: 이미지를 수평 방향으로 무작위로 뒤집습니다.\n",
        "RandomRotation: 이미지를 주어진 각도 범위 내에서 무작위로 회전시킵니다.\n",
        "ToTensor: 이미지 데이터를 PyTorch 텐서로 변환합니다.\n",
        "Normalize: 텐서를 주어진 평균 및 표준 편차 값으로 정규화합니다.\n",
        "'''\n",
        "\n",
        "train_tr = T.Compose([\n",
        "    T.Resize((256, 256)),\n",
        "    T.RandomCrop(224),\n",
        "    T.RandomHorizontalFlip(),\n",
        "    T.ToTensor(),\n",
        "    normalize\n",
        "])\n",
        "\n",
        "test_tr = T.Compose([\n",
        "    T.Resize((224, 224)),\n",
        "    T.ToTensor(),\n",
        "    normalize\n",
        "])\n",
        "\n",
        "train_ds = AgeClass(os.path.join(dir_main, \"train\"), train_tr)\n",
        "val_ds = AgeClass(os.path.join(dir_main, \"valid\"), test_tr)\n",
        "test_ds = AgeClass(os.path.join(dir_main, \"test\"), test_tr)\n",
        "\n",
        "train_dl = DataLoader(train_ds, shuffle=True, num_workers=0, batch_size=64)\n",
        "val_dl = DataLoader(val_ds, shuffle=True, num_workers=0, batch_size=64)\n",
        "test_dl = DataLoader(test_ds, shuffle=True, num_workers=0, batch_size=64)\n",
        "\n",
        "train_dl = DeviceDataLoader(train_dl)\n",
        "val_dl = DeviceDataLoader(val_dl)\n",
        "test_dl = DeviceDataLoader(test_dl)"
      ],
      "metadata": {
        "id": "fBKu-ZGYNdyp"
      },
      "execution_count": 15,
      "outputs": []
    },
    {
      "cell_type": "code",
      "source": [
        "# pip install timm"
      ],
      "metadata": {
        "colab": {
          "base_uri": "https://localhost:8080/"
        },
        "id": "NijzWMMNNoBo",
        "outputId": "8a122f94-3b4c-4d58-80c5-a44921ac1fa5"
      },
      "execution_count": 17,
      "outputs": [
        {
          "output_type": "stream",
          "name": "stdout",
          "text": [
            "Collecting timm\n",
            "  Downloading timm-0.9.7-py3-none-any.whl (2.2 MB)\n",
            "\u001b[2K     \u001b[90m━━━━━━━━━━━━━━━━━━━━━━━━━━━━━━━━━━━━━━━━\u001b[0m \u001b[32m2.2/2.2 MB\u001b[0m \u001b[31m11.9 MB/s\u001b[0m eta \u001b[36m0:00:00\u001b[0m\n",
            "\u001b[?25hRequirement already satisfied: torch>=1.7 in /usr/local/lib/python3.10/dist-packages (from timm) (2.0.1+cu118)\n",
            "Requirement already satisfied: torchvision in /usr/local/lib/python3.10/dist-packages (from timm) (0.15.2+cu118)\n",
            "Requirement already satisfied: pyyaml in /usr/local/lib/python3.10/dist-packages (from timm) (6.0.1)\n",
            "Collecting huggingface-hub (from timm)\n",
            "  Downloading huggingface_hub-0.18.0-py3-none-any.whl (301 kB)\n",
            "\u001b[2K     \u001b[90m━━━━━━━━━━━━━━━━━━━━━━━━━━━━━━━━━━━━━━\u001b[0m \u001b[32m302.0/302.0 kB\u001b[0m \u001b[31m18.5 MB/s\u001b[0m eta \u001b[36m0:00:00\u001b[0m\n",
            "\u001b[?25hCollecting safetensors (from timm)\n",
            "  Downloading safetensors-0.4.0-cp310-cp310-manylinux_2_17_x86_64.manylinux2014_x86_64.whl (1.3 MB)\n",
            "\u001b[2K     \u001b[90m━━━━━━━━━━━━━━━━━━━━━━━━━━━━━━━━━━━━━━━━\u001b[0m \u001b[32m1.3/1.3 MB\u001b[0m \u001b[31m25.1 MB/s\u001b[0m eta \u001b[36m0:00:00\u001b[0m\n",
            "\u001b[?25hRequirement already satisfied: filelock in /usr/local/lib/python3.10/dist-packages (from torch>=1.7->timm) (3.12.4)\n",
            "Requirement already satisfied: typing-extensions in /usr/local/lib/python3.10/dist-packages (from torch>=1.7->timm) (4.5.0)\n",
            "Requirement already satisfied: sympy in /usr/local/lib/python3.10/dist-packages (from torch>=1.7->timm) (1.12)\n",
            "Requirement already satisfied: networkx in /usr/local/lib/python3.10/dist-packages (from torch>=1.7->timm) (3.1)\n",
            "Requirement already satisfied: jinja2 in /usr/local/lib/python3.10/dist-packages (from torch>=1.7->timm) (3.1.2)\n",
            "Requirement already satisfied: triton==2.0.0 in /usr/local/lib/python3.10/dist-packages (from torch>=1.7->timm) (2.0.0)\n",
            "Requirement already satisfied: cmake in /usr/local/lib/python3.10/dist-packages (from triton==2.0.0->torch>=1.7->timm) (3.27.6)\n",
            "Requirement already satisfied: lit in /usr/local/lib/python3.10/dist-packages (from triton==2.0.0->torch>=1.7->timm) (17.0.2)\n",
            "Requirement already satisfied: fsspec>=2023.5.0 in /usr/local/lib/python3.10/dist-packages (from huggingface-hub->timm) (2023.6.0)\n",
            "Requirement already satisfied: requests in /usr/local/lib/python3.10/dist-packages (from huggingface-hub->timm) (2.31.0)\n",
            "Requirement already satisfied: tqdm>=4.42.1 in /usr/local/lib/python3.10/dist-packages (from huggingface-hub->timm) (4.66.1)\n",
            "Requirement already satisfied: packaging>=20.9 in /usr/local/lib/python3.10/dist-packages (from huggingface-hub->timm) (23.2)\n",
            "Requirement already satisfied: numpy in /usr/local/lib/python3.10/dist-packages (from torchvision->timm) (1.23.5)\n",
            "Requirement already satisfied: pillow!=8.3.*,>=5.3.0 in /usr/local/lib/python3.10/dist-packages (from torchvision->timm) (9.4.0)\n",
            "Requirement already satisfied: MarkupSafe>=2.0 in /usr/local/lib/python3.10/dist-packages (from jinja2->torch>=1.7->timm) (2.1.3)\n",
            "Requirement already satisfied: charset-normalizer<4,>=2 in /usr/local/lib/python3.10/dist-packages (from requests->huggingface-hub->timm) (3.3.0)\n",
            "Requirement already satisfied: idna<4,>=2.5 in /usr/local/lib/python3.10/dist-packages (from requests->huggingface-hub->timm) (3.4)\n",
            "Requirement already satisfied: urllib3<3,>=1.21.1 in /usr/local/lib/python3.10/dist-packages (from requests->huggingface-hub->timm) (2.0.6)\n",
            "Requirement already satisfied: certifi>=2017.4.17 in /usr/local/lib/python3.10/dist-packages (from requests->huggingface-hub->timm) (2023.7.22)\n",
            "Requirement already satisfied: mpmath>=0.19 in /usr/local/lib/python3.10/dist-packages (from sympy->torch>=1.7->timm) (1.3.0)\n",
            "Installing collected packages: safetensors, huggingface-hub, timm\n",
            "Successfully installed huggingface-hub-0.18.0 safetensors-0.4.0 timm-0.9.7\n"
          ]
        }
      ]
    },
    {
      "cell_type": "code",
      "source": [
        "import timm\n",
        "\n",
        "print(f\"The number of pretrained models : {len(timm.list_models('*', pretrained=True))}\")\n",
        "timm.list_models('efficientnet*', pretrained=True)"
      ],
      "metadata": {
        "colab": {
          "base_uri": "https://localhost:8080/"
        },
        "id": "EMcM8zbINJe7",
        "outputId": "7caabf46-d063-4122-f3f6-af4ec8ba592e"
      },
      "execution_count": 18,
      "outputs": [
        {
          "output_type": "stream",
          "name": "stdout",
          "text": [
            "The number of pretrained models : 1242\n"
          ]
        },
        {
          "output_type": "execute_result",
          "data": {
            "text/plain": [
              "['efficientnet_b0.ra_in1k',\n",
              " 'efficientnet_b1.ft_in1k',\n",
              " 'efficientnet_b1_pruned.in1k',\n",
              " 'efficientnet_b2.ra_in1k',\n",
              " 'efficientnet_b2_pruned.in1k',\n",
              " 'efficientnet_b3.ra2_in1k',\n",
              " 'efficientnet_b3_pruned.in1k',\n",
              " 'efficientnet_b4.ra2_in1k',\n",
              " 'efficientnet_b5.sw_in12k',\n",
              " 'efficientnet_b5.sw_in12k_ft_in1k',\n",
              " 'efficientnet_el.ra_in1k',\n",
              " 'efficientnet_el_pruned.in1k',\n",
              " 'efficientnet_em.ra2_in1k',\n",
              " 'efficientnet_es.ra_in1k',\n",
              " 'efficientnet_es_pruned.in1k',\n",
              " 'efficientnet_lite0.ra_in1k',\n",
              " 'efficientnetv2_rw_m.agc_in1k',\n",
              " 'efficientnetv2_rw_s.ra2_in1k',\n",
              " 'efficientnetv2_rw_t.ra2_in1k']"
            ]
          },
          "metadata": {},
          "execution_count": 18
        }
      ]
    },
    {
      "cell_type": "code",
      "source": [
        "model = timm.create_model('efficientnet_b0', pretrained=True)\n",
        "model.default_cfg"
      ],
      "metadata": {
        "colab": {
          "base_uri": "https://localhost:8080/",
          "height": 361,
          "referenced_widgets": [
            "ad1d3b0bda6f4685820bc18ffb28f367",
            "ff4d409c36fb4aad95be67843adf8f9d",
            "5add6b365cda4f788ea9bb896f759745",
            "a4e4f7e85b604df79ccd9a44e837a11b",
            "ab068bf74f4d400e93d75f72ec0c52dd",
            "e196363c14894b66ab5bb2f6229b2170",
            "6b496a560db74ce5bb3d63dcb7976c4f",
            "ce30b83501c146bdb459352ee4047663",
            "b352fc23a79641d593a4bf31438c2210",
            "645d4bb97f654b719a66899c5b4ed11e",
            "1a326545a93941b9be03c6d225898349"
          ]
        },
        "id": "jKKrGjZHNnTx",
        "outputId": "e07906ab-303c-4cd2-d171-9d398ad704b9"
      },
      "execution_count": 19,
      "outputs": [
        {
          "output_type": "display_data",
          "data": {
            "text/plain": [
              "model.safetensors:   0%|          | 0.00/21.4M [00:00<?, ?B/s]"
            ],
            "application/vnd.jupyter.widget-view+json": {
              "version_major": 2,
              "version_minor": 0,
              "model_id": "ad1d3b0bda6f4685820bc18ffb28f367"
            }
          },
          "metadata": {}
        },
        {
          "output_type": "execute_result",
          "data": {
            "text/plain": [
              "{'url': 'https://github.com/rwightman/pytorch-image-models/releases/download/v0.1-weights/efficientnet_b0_ra-3dd342df.pth',\n",
              " 'hf_hub_id': 'timm/efficientnet_b0.ra_in1k',\n",
              " 'architecture': 'efficientnet_b0',\n",
              " 'tag': 'ra_in1k',\n",
              " 'custom_load': False,\n",
              " 'input_size': (3, 224, 224),\n",
              " 'fixed_input_size': False,\n",
              " 'interpolation': 'bicubic',\n",
              " 'crop_pct': 0.875,\n",
              " 'crop_mode': 'center',\n",
              " 'mean': (0.485, 0.456, 0.406),\n",
              " 'std': (0.229, 0.224, 0.225),\n",
              " 'num_classes': 1000,\n",
              " 'pool_size': (7, 7),\n",
              " 'first_conv': 'conv_stem',\n",
              " 'classifier': 'classifier'}"
            ]
          },
          "metadata": {},
          "execution_count": 19
        }
      ]
    },
    {
      "cell_type": "code",
      "source": [
        "# check output dimension\n",
        "print(model.global_pool)\n",
        "print(model.get_classifier())"
      ],
      "metadata": {
        "colab": {
          "base_uri": "https://localhost:8080/"
        },
        "id": "UkNKr7KlNuUZ",
        "outputId": "65b83867-dcd1-42b6-cdb9-747647acce24"
      },
      "execution_count": 20,
      "outputs": [
        {
          "output_type": "stream",
          "name": "stdout",
          "text": [
            "SelectAdaptivePool2d (pool_type=avg, flatten=Flatten(start_dim=1, end_dim=-1))\n",
            "Linear(in_features=1280, out_features=1000, bias=True)\n"
          ]
        }
      ]
    },
    {
      "cell_type": "code",
      "source": [
        "import torch\n",
        "import torch.nn as nn\n",
        "import timm\n",
        "\n",
        "# to_device function\n",
        "def to_device(data, device):\n",
        "    \"\"\"Move tensor(s) to chosen device\"\"\"\n",
        "    if isinstance(data, (list, tuple)):\n",
        "        return [to_device(x, device) for x in data]\n",
        "    return data.to(device, non_blocking=True)\n",
        "\n",
        "# Your classes\n",
        "classes = ['0', '1', '2', '3', '4', '5', '6']\n",
        "\n",
        "# device definition\n",
        "device = torch.device('cuda' if torch.cuda.is_available() else 'cpu')\n",
        "\n",
        "class EfficientNet(nn.Module):\n",
        "    def __init__(self):\n",
        "        super().__init__()\n",
        "        self.model = timm.create_model('efficientnet_b0', pretrained=True, num_classes=len(classes), global_pool='avg')\n",
        "\n",
        "    def forward(self, x):\n",
        "        return torch.sigmoid(self.model(x))\n",
        "\n",
        "# Initialize model\n",
        "model = EfficientNet()\n",
        "\n",
        "# Move model to device\n",
        "model = to_device(model, device)"
      ],
      "metadata": {
        "id": "Pa-DdvpxNwrh"
      },
      "execution_count": 21,
      "outputs": []
    },
    {
      "cell_type": "code",
      "source": [
        "import pickle\n",
        "import os\n",
        "import torch.nn.functional as F\n",
        "\n",
        "\n",
        "class TrainHelper():\n",
        "    def __init__(self, save_path='./ckpt/history.pickle', history=[]):\n",
        "        self.history = history\n",
        "        self.save_path = save_path\n",
        "        os.makedirs(os.path.dirname(save_path), exist_ok=True)\n",
        "\n",
        "    def accuracy(self, outputs, labels):\n",
        "        pred = torch.max(outputs, dim=1)[1]\n",
        "        if len(labels.shape) > 1:\n",
        "            gt = torch.argmax(labels, dim=1)\n",
        "        else:\n",
        "            gt = labels\n",
        "            # gt = torch.max(labels, dim=1)[1]\n",
        "        return torch.tensor(torch.sum(pred == gt).item() / len(pred))\n",
        "\n",
        "    @torch.no_grad()\n",
        "    def validation(self, batch):\n",
        "        images, labels = batch\n",
        "        out = model(images)\n",
        "        acc = self.accuracy(out, labels)\n",
        "        loss = F.cross_entropy(out, labels)\n",
        "        return {'val_loss': loss.detach(), 'val_acc': acc}\n",
        "\n",
        "    @torch.no_grad()\n",
        "    def evaluation(self, model, data_loader):\n",
        "        model.eval()\n",
        "        outputs = [self.validation(batch) for batch in data_loader]\n",
        "        batch_losses = [x['val_loss'] for x in outputs]\n",
        "        epoch_loss = torch.stack(batch_losses).mean()\n",
        "        batch_accs = [x['val_acc'] for x in outputs]\n",
        "        epoch_acc = torch.stack(batch_accs).mean()\n",
        "        return {'val_loss': round(epoch_loss.item(), 5), 'val_acc': round(epoch_acc.item(), 5)}\n",
        "\n",
        "    def logging(self, epoch, result):\n",
        "        print(\"Epoch {}: train_loss: {:.4f}, val_loss: {:.4f}, val_acc: {:.4f}\".format(\n",
        "            epoch, result['train_loss'], result['val_loss'], result['val_acc']))\n",
        "        self.history.append(result)\n",
        "        with open(self.save_path, 'wb') as f:\n",
        "            pickle.dump(self.history, f)\n",
        "\n",
        "train_helper = TrainHelper()"
      ],
      "metadata": {
        "id": "t7ofQkX9N7OQ"
      },
      "execution_count": 24,
      "outputs": []
    },
    {
      "cell_type": "code",
      "source": [
        "train_helper.evaluation(model, val_dl)"
      ],
      "metadata": {
        "colab": {
          "base_uri": "https://localhost:8080/"
        },
        "id": "_eh4sZ9-N_Kh",
        "outputId": "460261d5-cd8f-4ad2-9f92-b2a84c707993"
      },
      "execution_count": 25,
      "outputs": [
        {
          "output_type": "execute_result",
          "data": {
            "text/plain": [
              "{'val_loss': 2.00924, 'val_acc': 0.13538}"
            ]
          },
          "metadata": {},
          "execution_count": 25
        }
      ]
    },
    {
      "cell_type": "code",
      "source": [
        "from tqdm import tqdm\n",
        "\n",
        "epochs = 2\n",
        "optimizer = torch.optim.Adam(model.parameters(), 5.5e-5)\n",
        "val_acc_best = 0\n",
        "save_model_path = \"/content/drive/MyDrive/Project/\"\n",
        "os.makedirs(save_model_path, exist_ok=True)\n",
        "for epoch in range(epochs):\n",
        "    # Training Phase\n",
        "    model.train()\n",
        "    train_losses = []\n",
        "    for batch in tqdm(train_dl):\n",
        "        inputs, targets = batch\n",
        "        outputs = model(inputs)\n",
        "        loss = F.cross_entropy(outputs, targets)\n",
        "\n",
        "        train_losses.append(loss)\n",
        "        loss.backward()\n",
        "        optimizer.step()\n",
        "        optimizer.zero_grad()\n",
        "\n",
        "    # Validation phase\n",
        "    result = train_helper.evaluation(model, val_dl)\n",
        "    result['train_loss'] = torch.stack(train_losses).mean().item()\n",
        "\n",
        "    # Save the best model\n",
        "    if result['val_acc'] >= val_acc_best:\n",
        "        val_acc_best = result['val_acc']\n",
        "        if 'save_model_name' in locals() and os.path.exists(save_model_name):\n",
        "            os.remove(save_model_name)\n",
        "        save_model_name = os.path.join(save_model_path, f\"best_ep_{epoch}_{val_acc_best}.pt\")\n",
        "        torch.save(model.state_dict(), save_model_name)\n",
        "        print(f\"Saved PyTorch Model State to {save_model_name}\")\n",
        "\n",
        "    train_helper.logging(epoch, result)\n",
        "\n",
        "# Save the last model\n",
        "save_model_name = os.path.join(save_model_path, f\"last_ep_{epoch}_{val_acc_best}.pt\")\n",
        "torch.save(model.state_dict(), save_model_name)"
      ],
      "metadata": {
        "colab": {
          "base_uri": "https://localhost:8080/"
        },
        "id": "EnNe05utOA9x",
        "outputId": "72a385ab-eb76-4c5f-f933-04f0351ac350"
      },
      "execution_count": 26,
      "outputs": [
        {
          "output_type": "stream",
          "name": "stderr",
          "text": [
            "100%|██████████| 502/502 [02:57<00:00,  2.83it/s]\n"
          ]
        },
        {
          "output_type": "stream",
          "name": "stdout",
          "text": [
            "Saved PyTorch Model State to ./ckpt/best_ep_0_0.51904.pt\n",
            "Epoch 0: train_loss: 1.5765, val_loss: 1.5255, val_acc: 0.5190\n"
          ]
        },
        {
          "output_type": "stream",
          "name": "stderr",
          "text": [
            "100%|██████████| 502/502 [02:45<00:00,  3.03it/s]\n"
          ]
        },
        {
          "output_type": "stream",
          "name": "stdout",
          "text": [
            "Saved PyTorch Model State to ./ckpt/best_ep_1_0.54409.pt\n",
            "Epoch 1: train_loss: 1.4577, val_loss: 1.4924, val_acc: 0.5441\n"
          ]
        }
      ]
    },
    {
      "cell_type": "code",
      "source": [
        "%matplotlib inline\n",
        "import matplotlib.pyplot as plt\n",
        "\n",
        "train_loss = [history['train_loss'] for history in train_helper.history]\n",
        "val_loss = [history['val_loss'] for history in train_helper.history]\n",
        "\n",
        "plt.plot(train_loss, label='train loss')\n",
        "plt.plot(val_loss, label='Validation loss')\n",
        "plt.grid()\n",
        "plt.legend(frameon=False)"
      ],
      "metadata": {
        "colab": {
          "base_uri": "https://localhost:8080/",
          "height": 448
        },
        "id": "A0-FUNxqOv0b",
        "outputId": "8fba530c-7278-4354-bb29-7d02a9004833"
      },
      "execution_count": 27,
      "outputs": [
        {
          "output_type": "execute_result",
          "data": {
            "text/plain": [
              "<matplotlib.legend.Legend at 0x7baaa9594250>"
            ]
          },
          "metadata": {},
          "execution_count": 27
        },
        {
          "output_type": "display_data",
          "data": {
            "text/plain": [
              "<Figure size 640x480 with 1 Axes>"
            ],
            "image/png": "[encoded data removed]"
          },
          "metadata": {}
        }
      ]
    },
    {
      "cell_type": "code",
      "source": [
        "%matplotlib inline\n",
        "import matplotlib.pyplot as plt\n",
        "\n",
        "val_acc = [history['val_acc'] for history in train_helper.history]\n",
        "plt.plot(val_acc, label='Accuracy')\n",
        "plt.grid()\n",
        "plt.legend(frameon=False)"
      ],
      "metadata": {
        "colab": {
          "base_uri": "https://localhost:8080/",
          "height": 449
        },
        "id": "eR0quW0mO4Ih",
        "outputId": "563fd343-1aed-469a-a3e1-6111648448ec"
      },
      "execution_count": 28,
      "outputs": [
        {
          "output_type": "execute_result",
          "data": {
            "text/plain": [
              "<matplotlib.legend.Legend at 0x7baaa8caee90>"
            ]
          },
          "metadata": {},
          "execution_count": 28
        },
        {
          "output_type": "display_data",
          "data": {
            "text/plain": [
              "<Figure size 640x480 with 1 Axes>"
            ],
            "image/png": "[encoded data removed]"
          },
          "metadata": {}
        }
      ]
    },
    {
      "cell_type": "code",
      "source": [
        "from sklearn import metrics\n",
        "import matplotlib.pyplot as plt\n",
        "\n",
        "model.eval()\n",
        "\n",
        "y_pred = []\n",
        "y_true = []\n",
        "for batch in tqdm(test_dl):\n",
        "    inputs, targets = batch\n",
        "    outputs = model(inputs)\n",
        "    # y_pred.extend(torch.max(outputs, dim=1)[1].numpy())\n",
        "    # y_true.extend(torch.max(targets, dim=1)[1].numpy())\n",
        "    y_pred.extend(torch.max(outputs, dim=1)[1].cpu().numpy())\n",
        "    # y_true.extend(torch.max(targets, dim=1)[1].cpu().numpy())\n",
        "    y_true.extend(targets.cpu().numpy())  # torch.max 사용 없이\n",
        "\n",
        "\n",
        "performance = metrics.classification_report(y_true, y_pred, digits=3)\n",
        "confusion_matrix = metrics.confusion_matrix(y_true, y_pred)\n",
        "\n",
        "classes = test_ds.classes\n",
        "disp = metrics.ConfusionMatrixDisplay(confusion_matrix = confusion_matrix, display_labels = list(range(len(classes))))\n",
        "print(f\"Classes : {classes}\")\n",
        "print(f\"Performance \\n{performance}\")\n",
        "\n",
        "disp.plot()\n",
        "fig = disp.ax_.get_figure()\n",
        "fig.set_figwidth(len(classes))\n",
        "fig.set_figheight(len(classes))\n",
        "plt.savefig(\"/content/drive/MyDrive/Project/confusion_matrix.jpg\")\n",
        "plt.show()"
      ],
      "metadata": {
        "colab": {
          "base_uri": "https://localhost:8080/",
          "height": 1000
        },
        "id": "kCZPDjsjQWmJ",
        "outputId": "d243884e-6f0d-4db1-9304-cce82159617b"
      },
      "execution_count": 31,
      "outputs": [
        {
          "output_type": "stream",
          "name": "stderr",
          "text": [
            "100%|██████████| 49/49 [00:13<00:00,  3.51it/s]\n",
            "/usr/local/lib/python3.10/dist-packages/sklearn/metrics/_classification.py:1344: UndefinedMetricWarning: Precision and F-score are ill-defined and being set to 0.0 in labels with no predicted samples. Use `zero_division` parameter to control this behavior.\n",
            "  _warn_prf(average, modifier, msg_start, len(result))\n",
            "/usr/local/lib/python3.10/dist-packages/sklearn/metrics/_classification.py:1344: UndefinedMetricWarning: Precision and F-score are ill-defined and being set to 0.0 in labels with no predicted samples. Use `zero_division` parameter to control this behavior.\n",
            "  _warn_prf(average, modifier, msg_start, len(result))\n",
            "/usr/local/lib/python3.10/dist-packages/sklearn/metrics/_classification.py:1344: UndefinedMetricWarning: Precision and F-score are ill-defined and being set to 0.0 in labels with no predicted samples. Use `zero_division` parameter to control this behavior.\n",
            "  _warn_prf(average, modifier, msg_start, len(result))\n"
          ]
        },
        {
          "output_type": "stream",
          "name": "stdout",
          "text": [
            "Classes : ['0', '1', '2', '3', '4', '5', '6']\n",
            "Performance \n",
            "              precision    recall  f1-score   support\n",
            "\n",
            "           0      0.851     0.737     0.790       627\n",
            "           1      0.541     0.641     0.587       845\n",
            "           2      0.485     0.447     0.465       736\n",
            "           3      0.323     0.572     0.413       435\n",
            "           4      0.410     0.090     0.148       354\n",
            "           5      0.385     0.213     0.274        94\n",
            "           6      0.000     0.000     0.000        33\n",
            "\n",
            "    accuracy                          0.523      3124\n",
            "   macro avg      0.428     0.386     0.382      3124\n",
            "weighted avg      0.534     0.523     0.509      3124\n",
            "\n"
          ]
        },
        {
          "output_type": "display_data",
          "data": {
            "text/plain": [
              "<Figure size 700x700 with 2 Axes>"
            ],
            "image/png": "[encoded data removed]"
          },
          "metadata": {}
        }
      ]
    },
    {
      "cell_type": "code",
      "source": [
        "import torch\n",
        "\n",
        "model=EfficientNet()\n",
        "model.load_state_dict(torch.load(\"/content/ckpt/best_ep_1_0.54409.pt\", map_location='cpu'))"
      ],
      "metadata": {
        "colab": {
          "base_uri": "https://localhost:8080/"
        },
        "id": "-hk8eNkyQbmp",
        "outputId": "49423d6d-c559-457f-ddf7-25ece3c9c5f3"
      },
      "execution_count": 33,
      "outputs": [
        {
          "output_type": "execute_result",
          "data": {
            "text/plain": [
              "<All keys matched successfully>"
            ]
          },
          "metadata": {},
          "execution_count": 33
        }
      ]
    },
    {
      "cell_type": "code",
      "source": [
        "# Recovery of normalized image dataset for visualization\n",
        "normalize_inverted = T.Normalize(\n",
        "    mean=[-0.485/0.229, -0.456/0.224, -0.406/0.225],\n",
        "    std=[1/0.229, 1/0.224, 1/0.225]\n",
        ")"
      ],
      "metadata": {
        "id": "30eRkDpKRQJp"
      },
      "execution_count": 34,
      "outputs": []
    },
    {
      "cell_type": "code",
      "source": [
        "from IPython.display import display\n",
        "from PIL import Image\n",
        "FP = 3\n",
        "for data in test_dl:\n",
        "    if FP==0:\n",
        "        break\n",
        "    img_batch, label_batch = data\n",
        "    results = model(img_batch)\n",
        "    confs, preds = torch.max(results, dim=1)\n",
        "    _, gts = torch.max(label_batch, dim=1)\n",
        "    preds = preds.numpy()\n",
        "    confs = confs.detach().numpy()\n",
        "    gts = gts.numpy()\n",
        "\n",
        "    for img, p, conf, g in zip(img_batch, preds, confs, gts):\n",
        "        if FP <= 0:\n",
        "            break\n",
        "        x = normalize_inverted(img).numpy()\n",
        "        x = (x * 255).astype(np.uint8).T\n",
        "        x = Image.fromarray(x)\n",
        "        if p!=g:\n",
        "            display(x)\n",
        "            print(f\"Prediction   : {test_ds.classes[p]} ({conf:0.4f})\")\n",
        "            print(f\"Ground Truth : {test_ds.classes[g]}\")\n",
        "            FP -= 1\n"
      ],
      "metadata": {
        "colab": {
          "base_uri": "https://localhost:8080/",
          "height": 410
        },
        "id": "aTcgqT_IRrEi",
        "outputId": "5f55a370-e911-4d0a-c98b-b55a06668b4b"
      },
      "execution_count": 36,
      "outputs": [
        {
          "output_type": "error",
          "ename": "RuntimeError",
          "evalue": "ignored",
          "traceback": [
            "\u001b[0;31m---------------------------------------------------------------------------\u001b[0m",
            "\u001b[0;31mRuntimeError\u001b[0m                              Traceback (most recent call last)",
            "\u001b[0;32m<ipython-input-36-d481c4a04f53>\u001b[0m in \u001b[0;36m<cell line: 4>\u001b[0;34m()\u001b[0m\n\u001b[1;32m      6\u001b[0m         \u001b[0;32mbreak\u001b[0m\u001b[0;34m\u001b[0m\u001b[0;34m\u001b[0m\u001b[0m\n\u001b[1;32m      7\u001b[0m     \u001b[0mimg_batch\u001b[0m\u001b[0;34m,\u001b[0m \u001b[0mlabel_batch\u001b[0m \u001b[0;34m=\u001b[0m \u001b[0mdata\u001b[0m\u001b[0;34m\u001b[0m\u001b[0;34m\u001b[0m\u001b[0m\n\u001b[0;32m----> 8\u001b[0;31m     \u001b[0mresults\u001b[0m \u001b[0;34m=\u001b[0m \u001b[0mmodel\u001b[0m\u001b[0;34m(\u001b[0m\u001b[0mimg_batch\u001b[0m\u001b[0;34m)\u001b[0m\u001b[0;34m\u001b[0m\u001b[0;34m\u001b[0m\u001b[0m\n\u001b[0m\u001b[1;32m      9\u001b[0m     \u001b[0mconfs\u001b[0m\u001b[0;34m,\u001b[0m \u001b[0mpreds\u001b[0m \u001b[0;34m=\u001b[0m \u001b[0mtorch\u001b[0m\u001b[0;34m.\u001b[0m\u001b[0mmax\u001b[0m\u001b[0;34m(\u001b[0m\u001b[0mresults\u001b[0m\u001b[0;34m,\u001b[0m \u001b[0mdim\u001b[0m\u001b[0;34m=\u001b[0m\u001b[0;36m1\u001b[0m\u001b[0;34m)\u001b[0m\u001b[0;34m\u001b[0m\u001b[0;34m\u001b[0m\u001b[0m\n\u001b[1;32m     10\u001b[0m     \u001b[0m_\u001b[0m\u001b[0;34m,\u001b[0m \u001b[0mgts\u001b[0m \u001b[0;34m=\u001b[0m \u001b[0mtorch\u001b[0m\u001b[0;34m.\u001b[0m\u001b[0mmax\u001b[0m\u001b[0;34m(\u001b[0m\u001b[0mlabel_batch\u001b[0m\u001b[0;34m,\u001b[0m \u001b[0mdim\u001b[0m\u001b[0;34m=\u001b[0m\u001b[0;36m1\u001b[0m\u001b[0;34m)\u001b[0m\u001b[0;34m\u001b[0m\u001b[0;34m\u001b[0m\u001b[0m\n",
            "\u001b[0;32m/usr/local/lib/python3.10/dist-packages/torch/nn/modules/module.py\u001b[0m in \u001b[0;36m_call_impl\u001b[0;34m(self, *args, **kwargs)\u001b[0m\n\u001b[1;32m   1499\u001b[0m                 \u001b[0;32mor\u001b[0m \u001b[0m_global_backward_pre_hooks\u001b[0m \u001b[0;32mor\u001b[0m \u001b[0m_global_backward_hooks\u001b[0m\u001b[0;34m\u001b[0m\u001b[0;34m\u001b[0m\u001b[0m\n\u001b[1;32m   1500\u001b[0m                 or _global_forward_hooks or _global_forward_pre_hooks):\n\u001b[0;32m-> 1501\u001b[0;31m             \u001b[0;32mreturn\u001b[0m \u001b[0mforward_call\u001b[0m\u001b[0;34m(\u001b[0m\u001b[0;34m*\u001b[0m\u001b[0margs\u001b[0m\u001b[0;34m,\u001b[0m \u001b[0;34m**\u001b[0m\u001b[0mkwargs\u001b[0m\u001b[0;34m)\u001b[0m\u001b[0;34m\u001b[0m\u001b[0;34m\u001b[0m\u001b[0m\n\u001b[0m\u001b[1;32m   1502\u001b[0m         \u001b[0;31m# Do not call functions when jit is used\u001b[0m\u001b[0;34m\u001b[0m\u001b[0;34m\u001b[0m\u001b[0m\n\u001b[1;32m   1503\u001b[0m         \u001b[0mfull_backward_hooks\u001b[0m\u001b[0;34m,\u001b[0m \u001b[0mnon_full_backward_hooks\u001b[0m \u001b[0;34m=\u001b[0m \u001b[0;34m[\u001b[0m\u001b[0;34m]\u001b[0m\u001b[0;34m,\u001b[0m \u001b[0;34m[\u001b[0m\u001b[0;34m]\u001b[0m\u001b[0;34m\u001b[0m\u001b[0;34m\u001b[0m\u001b[0m\n",
            "\u001b[0;32m<ipython-input-21-4f58cf776805>\u001b[0m in \u001b[0;36mforward\u001b[0;34m(self, x)\u001b[0m\n\u001b[1;32m     22\u001b[0m \u001b[0;34m\u001b[0m\u001b[0m\n\u001b[1;32m     23\u001b[0m     \u001b[0;32mdef\u001b[0m \u001b[0mforward\u001b[0m\u001b[0;34m(\u001b[0m\u001b[0mself\u001b[0m\u001b[0;34m,\u001b[0m \u001b[0mx\u001b[0m\u001b[0;34m)\u001b[0m\u001b[0;34m:\u001b[0m\u001b[0;34m\u001b[0m\u001b[0;34m\u001b[0m\u001b[0m\n\u001b[0;32m---> 24\u001b[0;31m         \u001b[0;32mreturn\u001b[0m \u001b[0mtorch\u001b[0m\u001b[0;34m.\u001b[0m\u001b[0msigmoid\u001b[0m\u001b[0;34m(\u001b[0m\u001b[0mself\u001b[0m\u001b[0;34m.\u001b[0m\u001b[0mmodel\u001b[0m\u001b[0;34m(\u001b[0m\u001b[0mx\u001b[0m\u001b[0;34m)\u001b[0m\u001b[0;34m)\u001b[0m\u001b[0;34m\u001b[0m\u001b[0;34m\u001b[0m\u001b[0m\n\u001b[0m\u001b[1;32m     25\u001b[0m \u001b[0;34m\u001b[0m\u001b[0m\n\u001b[1;32m     26\u001b[0m \u001b[0;31m# Initialize model\u001b[0m\u001b[0;34m\u001b[0m\u001b[0;34m\u001b[0m\u001b[0m\n",
            "\u001b[0;32m/usr/local/lib/python3.10/dist-packages/torch/nn/modules/module.py\u001b[0m in \u001b[0;36m_call_impl\u001b[0;34m(self, *args, **kwargs)\u001b[0m\n\u001b[1;32m   1499\u001b[0m                 \u001b[0;32mor\u001b[0m \u001b[0m_global_backward_pre_hooks\u001b[0m \u001b[0;32mor\u001b[0m \u001b[0m_global_backward_hooks\u001b[0m\u001b[0;34m\u001b[0m\u001b[0;34m\u001b[0m\u001b[0m\n\u001b[1;32m   1500\u001b[0m                 or _global_forward_hooks or _global_forward_pre_hooks):\n\u001b[0;32m-> 1501\u001b[0;31m             \u001b[0;32mreturn\u001b[0m \u001b[0mforward_call\u001b[0m\u001b[0;34m(\u001b[0m\u001b[0;34m*\u001b[0m\u001b[0margs\u001b[0m\u001b[0;34m,\u001b[0m \u001b[0;34m**\u001b[0m\u001b[0mkwargs\u001b[0m\u001b[0;34m)\u001b[0m\u001b[0;34m\u001b[0m\u001b[0;34m\u001b[0m\u001b[0m\n\u001b[0m\u001b[1;32m   1502\u001b[0m         \u001b[0;31m# Do not call functions when jit is used\u001b[0m\u001b[0;34m\u001b[0m\u001b[0;34m\u001b[0m\u001b[0m\n\u001b[1;32m   1503\u001b[0m         \u001b[0mfull_backward_hooks\u001b[0m\u001b[0;34m,\u001b[0m \u001b[0mnon_full_backward_hooks\u001b[0m \u001b[0;34m=\u001b[0m \u001b[0;34m[\u001b[0m\u001b[0;34m]\u001b[0m\u001b[0;34m,\u001b[0m \u001b[0;34m[\u001b[0m\u001b[0;34m]\u001b[0m\u001b[0;34m\u001b[0m\u001b[0;34m\u001b[0m\u001b[0m\n",
            "\u001b[0;32m/usr/local/lib/python3.10/dist-packages/timm/models/efficientnet.py\u001b[0m in \u001b[0;36mforward\u001b[0;34m(self, x)\u001b[0m\n\u001b[1;32m    177\u001b[0m \u001b[0;34m\u001b[0m\u001b[0m\n\u001b[1;32m    178\u001b[0m     \u001b[0;32mdef\u001b[0m \u001b[0mforward\u001b[0m\u001b[0;34m(\u001b[0m\u001b[0mself\u001b[0m\u001b[0;34m,\u001b[0m \u001b[0mx\u001b[0m\u001b[0;34m)\u001b[0m\u001b[0;34m:\u001b[0m\u001b[0;34m\u001b[0m\u001b[0;34m\u001b[0m\u001b[0m\n\u001b[0;32m--> 179\u001b[0;31m         \u001b[0mx\u001b[0m \u001b[0;34m=\u001b[0m \u001b[0mself\u001b[0m\u001b[0;34m.\u001b[0m\u001b[0mforward_features\u001b[0m\u001b[0;34m(\u001b[0m\u001b[0mx\u001b[0m\u001b[0;34m)\u001b[0m\u001b[0;34m\u001b[0m\u001b[0;34m\u001b[0m\u001b[0m\n\u001b[0m\u001b[1;32m    180\u001b[0m         \u001b[0mx\u001b[0m \u001b[0;34m=\u001b[0m \u001b[0mself\u001b[0m\u001b[0;34m.\u001b[0m\u001b[0mforward_head\u001b[0m\u001b[0;34m(\u001b[0m\u001b[0mx\u001b[0m\u001b[0;34m)\u001b[0m\u001b[0;34m\u001b[0m\u001b[0;34m\u001b[0m\u001b[0m\n\u001b[1;32m    181\u001b[0m         \u001b[0;32mreturn\u001b[0m \u001b[0mx\u001b[0m\u001b[0;34m\u001b[0m\u001b[0;34m\u001b[0m\u001b[0m\n",
            "\u001b[0;32m/usr/local/lib/python3.10/dist-packages/timm/models/efficientnet.py\u001b[0m in \u001b[0;36mforward_features\u001b[0;34m(self, x)\u001b[0m\n\u001b[1;32m    160\u001b[0m \u001b[0;34m\u001b[0m\u001b[0m\n\u001b[1;32m    161\u001b[0m     \u001b[0;32mdef\u001b[0m \u001b[0mforward_features\u001b[0m\u001b[0;34m(\u001b[0m\u001b[0mself\u001b[0m\u001b[0;34m,\u001b[0m \u001b[0mx\u001b[0m\u001b[0;34m)\u001b[0m\u001b[0;34m:\u001b[0m\u001b[0;34m\u001b[0m\u001b[0;34m\u001b[0m\u001b[0m\n\u001b[0;32m--> 162\u001b[0;31m         \u001b[0mx\u001b[0m \u001b[0;34m=\u001b[0m \u001b[0mself\u001b[0m\u001b[0;34m.\u001b[0m\u001b[0mconv_stem\u001b[0m\u001b[0;34m(\u001b[0m\u001b[0mx\u001b[0m\u001b[0;34m)\u001b[0m\u001b[0;34m\u001b[0m\u001b[0;34m\u001b[0m\u001b[0m\n\u001b[0m\u001b[1;32m    163\u001b[0m         \u001b[0mx\u001b[0m \u001b[0;34m=\u001b[0m \u001b[0mself\u001b[0m\u001b[0;34m.\u001b[0m\u001b[0mbn1\u001b[0m\u001b[0;34m(\u001b[0m\u001b[0mx\u001b[0m\u001b[0;34m)\u001b[0m\u001b[0;34m\u001b[0m\u001b[0;34m\u001b[0m\u001b[0m\n\u001b[1;32m    164\u001b[0m         \u001b[0;32mif\u001b[0m \u001b[0mself\u001b[0m\u001b[0;34m.\u001b[0m\u001b[0mgrad_checkpointing\u001b[0m \u001b[0;32mand\u001b[0m \u001b[0;32mnot\u001b[0m \u001b[0mtorch\u001b[0m\u001b[0;34m.\u001b[0m\u001b[0mjit\u001b[0m\u001b[0;34m.\u001b[0m\u001b[0mis_scripting\u001b[0m\u001b[0;34m(\u001b[0m\u001b[0;34m)\u001b[0m\u001b[0;34m:\u001b[0m\u001b[0;34m\u001b[0m\u001b[0;34m\u001b[0m\u001b[0m\n",
            "\u001b[0;32m/usr/local/lib/python3.10/dist-packages/torch/nn/modules/module.py\u001b[0m in \u001b[0;36m_call_impl\u001b[0;34m(self, *args, **kwargs)\u001b[0m\n\u001b[1;32m   1499\u001b[0m                 \u001b[0;32mor\u001b[0m \u001b[0m_global_backward_pre_hooks\u001b[0m \u001b[0;32mor\u001b[0m \u001b[0m_global_backward_hooks\u001b[0m\u001b[0;34m\u001b[0m\u001b[0;34m\u001b[0m\u001b[0m\n\u001b[1;32m   1500\u001b[0m                 or _global_forward_hooks or _global_forward_pre_hooks):\n\u001b[0;32m-> 1501\u001b[0;31m             \u001b[0;32mreturn\u001b[0m \u001b[0mforward_call\u001b[0m\u001b[0;34m(\u001b[0m\u001b[0;34m*\u001b[0m\u001b[0margs\u001b[0m\u001b[0;34m,\u001b[0m \u001b[0;34m**\u001b[0m\u001b[0mkwargs\u001b[0m\u001b[0;34m)\u001b[0m\u001b[0;34m\u001b[0m\u001b[0;34m\u001b[0m\u001b[0m\n\u001b[0m\u001b[1;32m   1502\u001b[0m         \u001b[0;31m# Do not call functions when jit is used\u001b[0m\u001b[0;34m\u001b[0m\u001b[0;34m\u001b[0m\u001b[0m\n\u001b[1;32m   1503\u001b[0m         \u001b[0mfull_backward_hooks\u001b[0m\u001b[0;34m,\u001b[0m \u001b[0mnon_full_backward_hooks\u001b[0m \u001b[0;34m=\u001b[0m \u001b[0;34m[\u001b[0m\u001b[0;34m]\u001b[0m\u001b[0;34m,\u001b[0m \u001b[0;34m[\u001b[0m\u001b[0;34m]\u001b[0m\u001b[0;34m\u001b[0m\u001b[0;34m\u001b[0m\u001b[0m\n",
            "\u001b[0;32m/usr/local/lib/python3.10/dist-packages/torch/nn/modules/conv.py\u001b[0m in \u001b[0;36mforward\u001b[0;34m(self, input)\u001b[0m\n\u001b[1;32m    461\u001b[0m \u001b[0;34m\u001b[0m\u001b[0m\n\u001b[1;32m    462\u001b[0m     \u001b[0;32mdef\u001b[0m \u001b[0mforward\u001b[0m\u001b[0;34m(\u001b[0m\u001b[0mself\u001b[0m\u001b[0;34m,\u001b[0m \u001b[0minput\u001b[0m\u001b[0;34m:\u001b[0m \u001b[0mTensor\u001b[0m\u001b[0;34m)\u001b[0m \u001b[0;34m->\u001b[0m \u001b[0mTensor\u001b[0m\u001b[0;34m:\u001b[0m\u001b[0;34m\u001b[0m\u001b[0;34m\u001b[0m\u001b[0m\n\u001b[0;32m--> 463\u001b[0;31m         \u001b[0;32mreturn\u001b[0m \u001b[0mself\u001b[0m\u001b[0;34m.\u001b[0m\u001b[0m_conv_forward\u001b[0m\u001b[0;34m(\u001b[0m\u001b[0minput\u001b[0m\u001b[0;34m,\u001b[0m \u001b[0mself\u001b[0m\u001b[0;34m.\u001b[0m\u001b[0mweight\u001b[0m\u001b[0;34m,\u001b[0m \u001b[0mself\u001b[0m\u001b[0;34m.\u001b[0m\u001b[0mbias\u001b[0m\u001b[0;34m)\u001b[0m\u001b[0;34m\u001b[0m\u001b[0;34m\u001b[0m\u001b[0m\n\u001b[0m\u001b[1;32m    464\u001b[0m \u001b[0;34m\u001b[0m\u001b[0m\n\u001b[1;32m    465\u001b[0m \u001b[0;32mclass\u001b[0m \u001b[0mConv3d\u001b[0m\u001b[0;34m(\u001b[0m\u001b[0m_ConvNd\u001b[0m\u001b[0;34m)\u001b[0m\u001b[0;34m:\u001b[0m\u001b[0;34m\u001b[0m\u001b[0;34m\u001b[0m\u001b[0m\n",
            "\u001b[0;32m/usr/local/lib/python3.10/dist-packages/torch/nn/modules/conv.py\u001b[0m in \u001b[0;36m_conv_forward\u001b[0;34m(self, input, weight, bias)\u001b[0m\n\u001b[1;32m    457\u001b[0m                             \u001b[0mweight\u001b[0m\u001b[0;34m,\u001b[0m \u001b[0mbias\u001b[0m\u001b[0;34m,\u001b[0m \u001b[0mself\u001b[0m\u001b[0;34m.\u001b[0m\u001b[0mstride\u001b[0m\u001b[0;34m,\u001b[0m\u001b[0;34m\u001b[0m\u001b[0;34m\u001b[0m\u001b[0m\n\u001b[1;32m    458\u001b[0m                             _pair(0), self.dilation, self.groups)\n\u001b[0;32m--> 459\u001b[0;31m         return F.conv2d(input, weight, bias, self.stride,\n\u001b[0m\u001b[1;32m    460\u001b[0m                         self.padding, self.dilation, self.groups)\n\u001b[1;32m    461\u001b[0m \u001b[0;34m\u001b[0m\u001b[0m\n",
            "\u001b[0;31mRuntimeError\u001b[0m: Input type (torch.cuda.FloatTensor) and weight type (torch.FloatTensor) should be the same"
          ]
        }
      ]
    },
    {
      "cell_type": "code",
      "source": [],
      "metadata": {
        "id": "7C_RHw8HRsn5"
      },
      "execution_count": null,
      "outputs": []
    }
  ]
}